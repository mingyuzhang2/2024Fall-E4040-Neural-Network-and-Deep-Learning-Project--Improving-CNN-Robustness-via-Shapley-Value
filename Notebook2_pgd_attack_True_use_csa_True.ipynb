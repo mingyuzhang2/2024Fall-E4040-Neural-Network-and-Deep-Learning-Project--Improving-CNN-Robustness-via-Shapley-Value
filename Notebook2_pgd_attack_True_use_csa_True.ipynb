{
 "cells": [
  {
   "cell_type": "markdown",
   "metadata": {
    "id": "mm-nwhNRQ8wy"
   },
   "source": [
    "## E4040 2024 Fall Project\n",
    "### Improving CNN Robustness via CS Shapley Value-guided Augmentation"
   ]
  },
  {
   "cell_type": "code",
   "execution_count": 1,
   "metadata": {
    "id": "VW8-sXpHQ69k"
   },
   "outputs": [
    {
     "data": {
      "text/plain": [
       "'/device:GPU:0'"
      ]
     },
     "execution_count": 1,
     "metadata": {},
     "output_type": "execute_result"
    }
   ],
   "source": [
    "%matplotlib inline\n",
    "%load_ext autoreload\n",
    "%autoreload 2\n",
    "\n",
    "import numpy as np\n",
    "import tensorflow as tf\n",
    "import os\n",
    "import matplotlib.pyplot as plt\n",
    "\n",
    "tf.test.gpu_device_name()"
   ]
  },
  {
   "cell_type": "markdown",
   "metadata": {
    "id": "aEhf0dW5Qgdw"
   },
   "source": [
    "### pdg-10 adv attack, CSANet model"
   ]
  },
  {
   "cell_type": "code",
   "execution_count": 2,
   "metadata": {
    "id": "Hi8OkdYcSEq7"
   },
   "outputs": [],
   "source": [
    "from utils.CSANet_trainer import CSANet_trainer, load_cifar10_dataset\n",
    "from utils.model_ResNet18 import ResNet18"
   ]
  },
  {
   "cell_type": "code",
   "execution_count": 3,
   "metadata": {
    "id": "luF2f1RQeQAu"
   },
   "outputs": [],
   "source": [
    "batch_size = 128\n",
    "lr = 0.1\n",
    "momentum = 0.9\n",
    "decay = 0.0005\n",
    "log_period = 100\n",
    "epochs=10\n",
    "num_classes=10\n",
    "checkpoint_dir=\"./checkpoints\"\n",
    "model_path = \"./saved_model\"\n",
    "backbone = ResNet18(num_classes=num_classes)\n",
    "conf_per_class = 5000\n",
    "conf_path=\"./saved_values\"\n",
    "epsilon=0.1\n",
    "pgd_iter=10\n",
    "pgd_alpha=0.01\n",
    "pgd_attack=True\n",
    "use_csa=True"
   ]
  },
  {
   "cell_type": "code",
   "execution_count": 4,
   "metadata": {},
   "outputs": [],
   "source": [
    "train_ds, test_ds = load_cifar10_dataset(batch_size)"
   ]
  },
  {
   "cell_type": "code",
   "execution_count": 5,
   "metadata": {
    "id": "ZaCpuzjJeP-n"
   },
   "outputs": [],
   "source": [
    "trainer = CSANet_trainer(\n",
    "    train_ds=train_ds,\n",
    "    test_ds=test_ds,\n",
    "    num_classes=num_classes,\n",
    "    epochs=epochs,\n",
    "    batch_size=batch_size,\n",
    "    lr=lr,\n",
    "    momentum=momentum,\n",
    "    decay=decay,\n",
    "    checkpoint_dir=checkpoint_dir,\n",
    "    backbone=backbone,\n",
    "    conf_per_class = conf_per_class,\n",
    "    conf_path = conf_path,\n",
    "    epsilon=epsilon,\n",
    "    pgd_iter=pgd_iter,\n",
    "    pgd_alpha=pgd_alpha,\n",
    "    pgd_attack=pgd_attack,\n",
    "    use_csa=use_csa\n",
    ")"
   ]
  },
  {
   "cell_type": "code",
   "execution_count": null,
   "metadata": {
    "id": "Y_2-LAmwePdc",
    "scrolled": true
   },
   "outputs": [
    {
     "name": "stdout",
     "output_type": "stream",
     "text": [
      "(0,)\n",
      "No checkpoint found. Starting from scratch.\n",
      "Training Epoch 1\n",
      "Epoch 1, Loss: 2.5392282009124756, Accuracy: 15.32800006866455, Test Loss: 1.875006914138794, Test Accuracy: 32.540000915527344, Training Time: 0:10:03.407741\n",
      "Checkpoint saved at: ./checkpoints/ckpt_epoch_1.h5\n",
      "Training Epoch 2\n",
      "Epoch 2, Loss: 2.1840927600860596, Accuracy: 22.224000930786133, Test Loss: 1.6555166244506836, Test Accuracy: 40.36000061035156, Training Time: 0:09:58.515845\n",
      "Checkpoint saved at: ./checkpoints/ckpt_epoch_2.h5\n",
      "Training Epoch 3\n",
      "Epoch 3, Loss: 1.8795311450958252, Accuracy: 29.66400146484375, Test Loss: 1.5287333726882935, Test Accuracy: 45.71999740600586, Training Time: 0:09:58.859085\n",
      "Checkpoint saved at: ./checkpoints/ckpt_epoch_3.h5\n",
      "Training Epoch 4\n"
     ]
    }
   ],
   "source": [
    "trainer.run()"
   ]
  },
  {
   "cell_type": "code",
   "execution_count": 6,
   "metadata": {},
   "outputs": [
    {
     "name": "stdout",
     "output_type": "stream",
     "text": [
      "(0,)\n",
      "Restored from checkpoint: ./checkpoints/ckpt_epoch_3.ckpt\n",
      "Restored from epoch 3: \n",
      "Training Epoch 4\n",
      "Epoch 4, Loss: 1.7913475036621094, Accuracy: 32.540000915527344, Test Loss: 1.3705203533172607, Test Accuracy: 51.630001068115234, Training Time: 0:10:01.061018\n",
      "Checkpoint saved at: ./checkpoints/ckpt_epoch_4.h5\n",
      "Training Epoch 5\n",
      "Epoch 5, Loss: 1.6810499429702759, Accuracy: 36.86600112915039, Test Loss: 1.2521722316741943, Test Accuracy: 54.98999786376953, Training Time: 0:10:00.049434\n",
      "Checkpoint saved at: ./checkpoints/ckpt_epoch_5.h5\n",
      "Training Epoch 6\n",
      "Epoch 6, Loss: 1.591890573501587, Accuracy: 40.0160026550293, Test Loss: 1.125498652458191, Test Accuracy: 59.90999984741211, Training Time: 0:10:00.559194\n",
      "Checkpoint saved at: ./checkpoints/ckpt_epoch_6.h5\n",
      "Training Epoch 7\n",
      "Epoch 7, Loss: 1.5213810205459595, Accuracy: 42.81800079345703, Test Loss: 1.1156867742538452, Test Accuracy: 61.15999984741211, Training Time: 0:10:00.891063\n",
      "Checkpoint saved at: ./checkpoints/ckpt_epoch_7.h5\n",
      "Training Epoch 8\n",
      "Epoch 8, Loss: 1.4712735414505005, Accuracy: 44.7400016784668, Test Loss: 1.0143479108810425, Test Accuracy: 67.33999633789062, Training Time: 0:10:00.684042\n",
      "Checkpoint saved at: ./checkpoints/ckpt_epoch_8.h5\n",
      "Training Epoch 9\n",
      "Epoch 9, Loss: 1.4161136150360107, Accuracy: 46.784000396728516, Test Loss: 0.970686137676239, Test Accuracy: 67.05999755859375, Training Time: 0:10:01.593158\n",
      "Checkpoint saved at: ./checkpoints/ckpt_epoch_9.h5\n",
      "Training Epoch 10\n",
      "Epoch 10, Loss: 1.3689558506011963, Accuracy: 48.42399978637695, Test Loss: 0.901792585849762, Test Accuracy: 70.20999908447266, Training Time: 0:10:01.799575\n",
      "Checkpoint saved at: ./checkpoints/ckpt_epoch_10.h5\n",
      "Total Training Time: 1:10:08.194966\n"
     ]
    }
   ],
   "source": [
    "trainer.run()"
   ]
  },
  {
   "cell_type": "code",
   "execution_count": 7,
   "metadata": {
    "id": "fArqxHakePav",
    "scrolled": true
   },
   "outputs": [
    {
     "name": "stdout",
     "output_type": "stream",
     "text": [
      "WARNING:tensorflow:Skipping full serialization of Keras layer <tensorflow.python.keras.layers.normalization_v2.BatchNormalization object at 0x7fe322f8df28>, because it is not built.\n",
      "WARNING:tensorflow:Skipping full serialization of Keras layer <tensorflow.python.keras.layers.advanced_activations.ReLU object at 0x7fe321eee2b0>, because it is not built.\n",
      "WARNING:tensorflow:Skipping full serialization of Keras layer <utils.model_CSANet.NFCBank object at 0x7fe321dbfb38>, because it is not built.\n",
      "INFO:tensorflow:Assets written to: ./saved_model/assets\n",
      "Model saved\n"
     ]
    }
   ],
   "source": [
    "trainer.model.save(model_path)\n",
    "print(\"Model saved\")"
   ]
  }
 ],
 "metadata": {
  "colab": {
   "provenance": []
  },
  "kernelspec": {
   "display_name": "Python 3",
   "language": "python",
   "name": "python3"
  },
  "language_info": {
   "codemirror_mode": {
    "name": "ipython",
    "version": 3
   },
   "file_extension": ".py",
   "mimetype": "text/x-python",
   "name": "python",
   "nbconvert_exporter": "python",
   "pygments_lexer": "ipython3",
   "version": "3.6.9"
  }
 },
 "nbformat": 4,
 "nbformat_minor": 1
}
