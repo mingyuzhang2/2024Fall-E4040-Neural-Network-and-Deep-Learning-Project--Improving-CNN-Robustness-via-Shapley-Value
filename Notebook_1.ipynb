{
 "cells": [
  {
   "cell_type": "markdown",
   "metadata": {
    "id": "mm-nwhNRQ8wy"
   },
   "source": [
    "## E4040 2024 Fall Project\n",
    "### Improving CNN Robustness via CS Shapley Value-guided Augmentation"
   ]
  },
  {
   "cell_type": "code",
   "execution_count": 1,
   "metadata": {
    "id": "VW8-sXpHQ69k"
   },
   "outputs": [
    {
     "data": {
      "text/plain": [
       "'/device:GPU:0'"
      ]
     },
     "execution_count": 1,
     "metadata": {},
     "output_type": "execute_result"
    }
   ],
   "source": [
    "%matplotlib inline\n",
    "%load_ext autoreload\n",
    "%autoreload 2\n",
    "\n",
    "import numpy as np\n",
    "import tensorflow as tf\n",
    "import os\n",
    "import matplotlib.pyplot as plt\n",
    "import pandas as pd\n",
    "\n",
    "tf.test.gpu_device_name()"
   ]
  },
  {
   "cell_type": "markdown",
   "metadata": {
    "id": "aEhf0dW5Qgdw"
   },
   "source": [
    "### Import CIFAR-10 data and training ResNet18"
   ]
  },
  {
   "cell_type": "code",
   "execution_count": 2,
   "metadata": {
    "id": "Hi8OkdYcSEq7"
   },
   "outputs": [],
   "source": [
    "from utils.ResNet18_trainer import ResNet18_trainer, load_cifar10_dataset#, delete_previous_checkpoints"
   ]
  },
  {
   "cell_type": "code",
   "execution_count": 3,
   "metadata": {
    "id": "luF2f1RQeQAu"
   },
   "outputs": [],
   "source": [
    "batch_size = 128\n",
    "lr = 0.1\n",
    "momentum = 0.9\n",
    "decay = 0.0005\n",
    "#log_period = 100\n",
    "epochs=60\n",
    "num_classes=10\n",
    "checkpoint_dir=\"./checkpoint/ResNet18\"\n",
    "model_path = \"./saved_model/ResNet18\""
   ]
  },
  {
   "cell_type": "code",
   "execution_count": 4,
   "metadata": {},
   "outputs": [],
   "source": [
    "train_ds, test_ds = load_cifar10_dataset(batch_size)"
   ]
  },
  {
   "cell_type": "code",
   "execution_count": 5,
   "metadata": {
    "id": "ZaCpuzjJeP-n"
   },
   "outputs": [],
   "source": [
    "trainer = ResNet18_trainer(\n",
    "    train_ds=train_ds,\n",
    "    test_ds=test_ds,\n",
    "    num_classes=num_classes,\n",
    "    epochs=epochs,\n",
    "    batch_size=batch_size,\n",
    "    lr=lr,\n",
    "    momentum=momentum,\n",
    "    decay=decay,\n",
    "    checkpoint_dir=checkpoint_dir\n",
    ")"
   ]
  },
  {
   "cell_type": "code",
   "execution_count": 6,
   "metadata": {},
   "outputs": [
    {
     "name": "stdout",
     "output_type": "stream",
     "text": [
      "Deleted previous checkpoints.\n"
     ]
    }
   ],
   "source": [
    "###########\n",
    "if os.path.exists(checkpoint_dir):\n",
    "    for filename in os.listdir(checkpoint_dir):\n",
    "        file_path = os.path.join(checkpoint_dir, filename)\n",
    "        if os.path.isfile(file_path):\n",
    "            os.remove(file_path)\n",
    "    print(\"Deleted previous checkpoints.\")\n",
    "    "
   ]
  },
  {
   "cell_type": "code",
   "execution_count": 7,
   "metadata": {
    "id": "Y_2-LAmwePdc",
    "scrolled": true
   },
   "outputs": [
    {
     "name": "stdout",
     "output_type": "stream",
     "text": [
      "No checkpoint found. Starting from scratch.\n",
      "Training Epoch 1\n",
      "Epoch 1, Loss: 2.0920565128326416, Accuracy: 27.799999237060547, Test Loss: 1.6527928113937378, Test Accuracy: 40.75\n",
      "Checkpoint saved at: ./checkpoint/ResNet18/ckpt_epoch_1.h5\n",
      "Training Epoch 2\n",
      "Epoch 2, Loss: 2.0235111713409424, Accuracy: 31.262001037597656, Test Loss: 1.631805181503296, Test Accuracy: 40.619998931884766\n",
      "Checkpoint saved at: ./checkpoint/ResNet18/ckpt_epoch_2.h5\n",
      "Training Epoch 3\n",
      "Epoch 3, Loss: 1.4662601947784424, Accuracy: 46.380001068115234, Test Loss: 1.490518569946289, Test Accuracy: 45.66999816894531\n",
      "Checkpoint saved at: ./checkpoint/ResNet18/ckpt_epoch_3.h5\n",
      "Training Epoch 4\n",
      "Epoch 4, Loss: 1.2165998220443726, Accuracy: 56.4379997253418, Test Loss: 1.1222209930419922, Test Accuracy: 60.40999984741211\n",
      "Checkpoint saved at: ./checkpoint/ResNet18/ckpt_epoch_4.h5\n",
      "Training Epoch 5\n",
      "Epoch 5, Loss: 0.9969229698181152, Accuracy: 64.75, Test Loss: 0.9019384384155273, Test Accuracy: 68.08000183105469\n",
      "Checkpoint saved at: ./checkpoint/ResNet18/ckpt_epoch_5.h5\n",
      "Training Epoch 6\n",
      "Epoch 6, Loss: 0.8292243480682373, Accuracy: 70.8800048828125, Test Loss: 0.8122449517250061, Test Accuracy: 71.56999969482422\n",
      "Checkpoint saved at: ./checkpoint/ResNet18/ckpt_epoch_6.h5\n",
      "Training Epoch 7\n",
      "Epoch 7, Loss: 0.6998171806335449, Accuracy: 75.84000396728516, Test Loss: 0.7842336297035217, Test Accuracy: 73.32999420166016\n",
      "Checkpoint saved at: ./checkpoint/ResNet18/ckpt_epoch_7.h5\n",
      "Training Epoch 8\n",
      "Epoch 8, Loss: 0.6117079257965088, Accuracy: 78.91200256347656, Test Loss: 0.6023785471916199, Test Accuracy: 79.56999969482422\n",
      "Checkpoint saved at: ./checkpoint/ResNet18/ckpt_epoch_8.h5\n",
      "Training Epoch 9\n",
      "Epoch 9, Loss: 0.5508832335472107, Accuracy: 80.97000122070312, Test Loss: 0.5739496350288391, Test Accuracy: 80.20999908447266\n",
      "Checkpoint saved at: ./checkpoint/ResNet18/ckpt_epoch_9.h5\n",
      "Training Epoch 10\n",
      "Epoch 10, Loss: 0.4964889585971832, Accuracy: 82.89199829101562, Test Loss: 0.5853793621063232, Test Accuracy: 80.83000183105469\n",
      "Checkpoint saved at: ./checkpoint/ResNet18/ckpt_epoch_10.h5\n",
      "Training Epoch 11\n",
      "Epoch 11, Loss: 0.4550912082195282, Accuracy: 84.22599792480469, Test Loss: 0.6338940858840942, Test Accuracy: 79.12999725341797\n",
      "Checkpoint saved at: ./checkpoint/ResNet18/ckpt_epoch_11.h5\n",
      "Training Epoch 12\n",
      "Epoch 12, Loss: 0.4165341556072235, Accuracy: 85.73400115966797, Test Loss: 0.4680907428264618, Test Accuracy: 84.5199966430664\n",
      "Checkpoint saved at: ./checkpoint/ResNet18/ckpt_epoch_12.h5\n",
      "Training Epoch 13\n",
      "Epoch 13, Loss: 0.38370272517204285, Accuracy: 86.66399383544922, Test Loss: 0.4852887988090515, Test Accuracy: 83.61000061035156\n",
      "Checkpoint saved at: ./checkpoint/ResNet18/ckpt_epoch_13.h5\n",
      "Training Epoch 14\n",
      "Epoch 14, Loss: 0.3565804660320282, Accuracy: 87.69999694824219, Test Loss: 0.47440704703330994, Test Accuracy: 84.22000122070312\n",
      "Checkpoint saved at: ./checkpoint/ResNet18/ckpt_epoch_14.h5\n",
      "Training Epoch 15\n",
      "Epoch 15, Loss: 0.32954344153404236, Accuracy: 88.48199462890625, Test Loss: 0.4163597822189331, Test Accuracy: 86.36000061035156\n",
      "Checkpoint saved at: ./checkpoint/ResNet18/ckpt_epoch_15.h5\n",
      "Training Epoch 16\n",
      "Epoch 16, Loss: 0.3119128346443176, Accuracy: 89.25399780273438, Test Loss: 0.41968005895614624, Test Accuracy: 86.54999542236328\n",
      "Checkpoint saved at: ./checkpoint/ResNet18/ckpt_epoch_16.h5\n",
      "Training Epoch 17\n",
      "Epoch 17, Loss: 0.2867688238620758, Accuracy: 90.00599670410156, Test Loss: 0.43397054076194763, Test Accuracy: 86.12999725341797\n",
      "Checkpoint saved at: ./checkpoint/ResNet18/ckpt_epoch_17.h5\n",
      "Training Epoch 18\n",
      "Epoch 18, Loss: 0.2669256925582886, Accuracy: 90.7040023803711, Test Loss: 0.4311557114124298, Test Accuracy: 86.05999755859375\n",
      "Checkpoint saved at: ./checkpoint/ResNet18/ckpt_epoch_18.h5\n",
      "Training Epoch 19\n",
      "Epoch 19, Loss: 0.253572553396225, Accuracy: 91.12799835205078, Test Loss: 0.4586470425128937, Test Accuracy: 85.98999786376953\n",
      "Checkpoint saved at: ./checkpoint/ResNet18/ckpt_epoch_19.h5\n",
      "Training Epoch 20\n",
      "Epoch 20, Loss: 0.23742632567882538, Accuracy: 91.77400207519531, Test Loss: 0.45065128803253174, Test Accuracy: 86.37999725341797\n",
      "Checkpoint saved at: ./checkpoint/ResNet18/ckpt_epoch_20.h5\n",
      "Training Epoch 21\n",
      "Epoch 21, Loss: 0.22128301858901978, Accuracy: 92.28399658203125, Test Loss: 0.4815027713775635, Test Accuracy: 86.04999542236328\n",
      "Checkpoint saved at: ./checkpoint/ResNet18/ckpt_epoch_21.h5\n",
      "Training Epoch 22\n",
      "Epoch 22, Loss: 0.20746782422065735, Accuracy: 92.80799865722656, Test Loss: 0.39243119955062866, Test Accuracy: 88.69000244140625\n",
      "Checkpoint saved at: ./checkpoint/ResNet18/ckpt_epoch_22.h5\n",
      "Training Epoch 23\n",
      "Epoch 23, Loss: 0.1973000466823578, Accuracy: 92.99600219726562, Test Loss: 0.4163529574871063, Test Accuracy: 87.86000061035156\n",
      "Checkpoint saved at: ./checkpoint/ResNet18/ckpt_epoch_23.h5\n",
      "Training Epoch 24\n",
      "Epoch 24, Loss: 0.18241611123085022, Accuracy: 93.56800079345703, Test Loss: 0.4274613559246063, Test Accuracy: 87.68000030517578\n",
      "Checkpoint saved at: ./checkpoint/ResNet18/ckpt_epoch_24.h5\n",
      "Training Epoch 25\n",
      "Epoch 25, Loss: 0.17444320023059845, Accuracy: 93.94999694824219, Test Loss: 0.41659536957740784, Test Accuracy: 87.94999694824219\n",
      "Checkpoint saved at: ./checkpoint/ResNet18/ckpt_epoch_25.h5\n",
      "Training Epoch 26\n",
      "Epoch 26, Loss: 0.15829885005950928, Accuracy: 94.47799682617188, Test Loss: 0.42463746666908264, Test Accuracy: 88.2300033569336\n",
      "Checkpoint saved at: ./checkpoint/ResNet18/ckpt_epoch_26.h5\n",
      "Training Epoch 27\n",
      "Epoch 27, Loss: 0.1495039314031601, Accuracy: 94.61000061035156, Test Loss: 0.43434375524520874, Test Accuracy: 87.93000030517578\n",
      "Checkpoint saved at: ./checkpoint/ResNet18/ckpt_epoch_27.h5\n",
      "Training Epoch 28\n",
      "Epoch 28, Loss: 0.13922177255153656, Accuracy: 95.16799926757812, Test Loss: 0.41634222865104675, Test Accuracy: 88.95999908447266\n",
      "Checkpoint saved at: ./checkpoint/ResNet18/ckpt_epoch_28.h5\n",
      "Training Epoch 29\n",
      "Epoch 29, Loss: 0.13616427779197693, Accuracy: 95.08000183105469, Test Loss: 0.3879290819168091, Test Accuracy: 89.29000091552734\n",
      "Checkpoint saved at: ./checkpoint/ResNet18/ckpt_epoch_29.h5\n",
      "Training Epoch 30\n",
      "Epoch 30, Loss: 0.12322147190570831, Accuracy: 95.58799743652344, Test Loss: 0.39612433314323425, Test Accuracy: 89.04000091552734\n",
      "Checkpoint saved at: ./checkpoint/ResNet18/ckpt_epoch_30.h5\n",
      "Training Epoch 31\n",
      "Epoch 31, Loss: 0.11725039035081863, Accuracy: 95.85199737548828, Test Loss: 0.4063878059387207, Test Accuracy: 88.93000030517578\n",
      "Checkpoint saved at: ./checkpoint/ResNet18/ckpt_epoch_31.h5\n",
      "Training Epoch 32\n",
      "Epoch 32, Loss: 0.10618884116411209, Accuracy: 96.28599548339844, Test Loss: 0.42465585470199585, Test Accuracy: 89.2300033569336\n",
      "Checkpoint saved at: ./checkpoint/ResNet18/ckpt_epoch_32.h5\n",
      "Training Epoch 33\n",
      "Epoch 33, Loss: 0.1000700369477272, Accuracy: 96.40399932861328, Test Loss: 0.4401622712612152, Test Accuracy: 89.01000213623047\n",
      "Checkpoint saved at: ./checkpoint/ResNet18/ckpt_epoch_33.h5\n",
      "Training Epoch 34\n",
      "Epoch 34, Loss: 0.09785868227481842, Accuracy: 96.54000091552734, Test Loss: 0.4138792157173157, Test Accuracy: 89.22000122070312\n",
      "Checkpoint saved at: ./checkpoint/ResNet18/ckpt_epoch_34.h5\n",
      "Training Epoch 35\n",
      "Epoch 35, Loss: 0.09406053274869919, Accuracy: 96.73400115966797, Test Loss: 0.4395102560520172, Test Accuracy: 88.8800048828125\n",
      "Checkpoint saved at: ./checkpoint/ResNet18/ckpt_epoch_35.h5\n",
      "Training Epoch 36\n",
      "Epoch 36, Loss: 0.08836887031793594, Accuracy: 96.86599731445312, Test Loss: 0.4481509327888489, Test Accuracy: 89.18000030517578\n",
      "Checkpoint saved at: ./checkpoint/ResNet18/ckpt_epoch_36.h5\n",
      "Training Epoch 37\n",
      "Epoch 37, Loss: 0.07895319163799286, Accuracy: 97.19999694824219, Test Loss: 0.42797258496284485, Test Accuracy: 89.3800048828125\n",
      "Checkpoint saved at: ./checkpoint/ResNet18/ckpt_epoch_37.h5\n",
      "Training Epoch 38\n",
      "Epoch 38, Loss: 0.07655882835388184, Accuracy: 97.29199981689453, Test Loss: 0.4061755836009979, Test Accuracy: 89.61000061035156\n",
      "Checkpoint saved at: ./checkpoint/ResNet18/ckpt_epoch_38.h5\n",
      "Training Epoch 39\n",
      "Epoch 39, Loss: 0.0706510990858078, Accuracy: 97.49600219726562, Test Loss: 0.4425979256629944, Test Accuracy: 89.43000030517578\n",
      "Checkpoint saved at: ./checkpoint/ResNet18/ckpt_epoch_39.h5\n",
      "Training Epoch 40\n",
      "Epoch 40, Loss: 0.0694136992096901, Accuracy: 97.552001953125, Test Loss: 0.4571895897388458, Test Accuracy: 89.59000396728516\n",
      "Checkpoint saved at: ./checkpoint/ResNet18/ckpt_epoch_40.h5\n",
      "Training Epoch 41\n"
     ]
    },
    {
     "name": "stdout",
     "output_type": "stream",
     "text": [
      "Epoch 41, Loss: 0.064341701567173, Accuracy: 97.802001953125, Test Loss: 0.4460940659046173, Test Accuracy: 90.27000427246094\n",
      "Checkpoint saved at: ./checkpoint/ResNet18/ckpt_epoch_41.h5\n",
      "Training Epoch 42\n",
      "Epoch 42, Loss: 0.06018419563770294, Accuracy: 97.90800476074219, Test Loss: 0.4505593478679657, Test Accuracy: 89.91000366210938\n",
      "Checkpoint saved at: ./checkpoint/ResNet18/ckpt_epoch_42.h5\n",
      "Training Epoch 43\n",
      "Epoch 43, Loss: 0.05600331351161003, Accuracy: 98.0199966430664, Test Loss: 0.45062246918678284, Test Accuracy: 89.62000274658203\n",
      "Checkpoint saved at: ./checkpoint/ResNet18/ckpt_epoch_43.h5\n",
      "Training Epoch 44\n",
      "Epoch 44, Loss: 0.05354846641421318, Accuracy: 98.0780029296875, Test Loss: 0.5039269328117371, Test Accuracy: 89.79000091552734\n",
      "Checkpoint saved at: ./checkpoint/ResNet18/ckpt_epoch_44.h5\n",
      "Training Epoch 45\n",
      "Epoch 45, Loss: 0.04778524488210678, Accuracy: 98.31999969482422, Test Loss: 0.46824994683265686, Test Accuracy: 90.3800048828125\n",
      "Checkpoint saved at: ./checkpoint/ResNet18/ckpt_epoch_45.h5\n",
      "Training Epoch 46\n",
      "Epoch 46, Loss: 0.04543197154998779, Accuracy: 98.38800048828125, Test Loss: 0.4793187379837036, Test Accuracy: 90.10000610351562\n",
      "Checkpoint saved at: ./checkpoint/ResNet18/ckpt_epoch_46.h5\n",
      "Training Epoch 47\n",
      "Epoch 47, Loss: 0.04371727630496025, Accuracy: 98.46800231933594, Test Loss: 0.4668325185775757, Test Accuracy: 90.30000305175781\n",
      "Checkpoint saved at: ./checkpoint/ResNet18/ckpt_epoch_47.h5\n",
      "Training Epoch 48\n",
      "Epoch 48, Loss: 0.04231484979391098, Accuracy: 98.51800537109375, Test Loss: 0.4934394061565399, Test Accuracy: 89.58000183105469\n",
      "Checkpoint saved at: ./checkpoint/ResNet18/ckpt_epoch_48.h5\n",
      "Training Epoch 49\n",
      "Epoch 49, Loss: 0.040156856179237366, Accuracy: 98.63600158691406, Test Loss: 0.49375858902931213, Test Accuracy: 90.01000213623047\n",
      "Checkpoint saved at: ./checkpoint/ResNet18/ckpt_epoch_49.h5\n",
      "Training Epoch 50\n",
      "Epoch 50, Loss: 0.037805695086717606, Accuracy: 98.68399810791016, Test Loss: 0.48167872428894043, Test Accuracy: 90.20999908447266\n",
      "Checkpoint saved at: ./checkpoint/ResNet18/ckpt_epoch_50.h5\n",
      "Training Epoch 51\n",
      "Epoch 51, Loss: 0.03400568291544914, Accuracy: 98.84200286865234, Test Loss: 0.4573909044265747, Test Accuracy: 90.55000305175781\n",
      "Checkpoint saved at: ./checkpoint/ResNet18/ckpt_epoch_51.h5\n",
      "Training Epoch 52\n",
      "Epoch 52, Loss: 0.03148597851395607, Accuracy: 98.95399475097656, Test Loss: 0.47229936718940735, Test Accuracy: 90.54000091552734\n",
      "Checkpoint saved at: ./checkpoint/ResNet18/ckpt_epoch_52.h5\n",
      "Training Epoch 53\n",
      "Epoch 53, Loss: 0.03136187419295311, Accuracy: 98.87800598144531, Test Loss: 0.4966539442539215, Test Accuracy: 90.06999969482422\n",
      "Checkpoint saved at: ./checkpoint/ResNet18/ckpt_epoch_53.h5\n",
      "Training Epoch 54\n",
      "Epoch 54, Loss: 0.030573992058634758, Accuracy: 98.93599700927734, Test Loss: 0.46495023369789124, Test Accuracy: 90.3800048828125\n",
      "Checkpoint saved at: ./checkpoint/ResNet18/ckpt_epoch_54.h5\n",
      "Training Epoch 55\n",
      "Epoch 55, Loss: 0.026300495490431786, Accuracy: 99.052001953125, Test Loss: 0.4909828305244446, Test Accuracy: 90.45999908447266\n",
      "Checkpoint saved at: ./checkpoint/ResNet18/ckpt_epoch_55.h5\n",
      "Training Epoch 56\n",
      "Epoch 56, Loss: 0.027627361938357353, Accuracy: 99.03600311279297, Test Loss: 0.5058138966560364, Test Accuracy: 90.5\n",
      "Checkpoint saved at: ./checkpoint/ResNet18/ckpt_epoch_56.h5\n",
      "Training Epoch 57\n",
      "Epoch 57, Loss: 0.025271179154515266, Accuracy: 99.16799926757812, Test Loss: 0.5022154450416565, Test Accuracy: 90.52000427246094\n",
      "Checkpoint saved at: ./checkpoint/ResNet18/ckpt_epoch_57.h5\n",
      "Training Epoch 58\n",
      "Epoch 58, Loss: 0.026561513543128967, Accuracy: 99.10200500488281, Test Loss: 0.4809427261352539, Test Accuracy: 90.51000213623047\n",
      "Checkpoint saved at: ./checkpoint/ResNet18/ckpt_epoch_58.h5\n",
      "Training Epoch 59\n",
      "Epoch 59, Loss: 0.021642453968524933, Accuracy: 99.26200103759766, Test Loss: 0.5140202045440674, Test Accuracy: 90.41999816894531\n",
      "Checkpoint saved at: ./checkpoint/ResNet18/ckpt_epoch_59.h5\n",
      "Training Epoch 60\n",
      "Epoch 60, Loss: 0.02140231430530548, Accuracy: 99.2959976196289, Test Loss: 0.5014466643333435, Test Accuracy: 90.27999877929688\n",
      "Checkpoint saved at: ./checkpoint/ResNet18/ckpt_epoch_60.h5\n"
     ]
    }
   ],
   "source": [
    "trainer.run()"
   ]
  },
  {
   "cell_type": "code",
   "execution_count": 8,
   "metadata": {},
   "outputs": [
    {
     "name": "stdout",
     "output_type": "stream",
     "text": [
      "Deleted previous saved models.\n"
     ]
    }
   ],
   "source": [
    "if os.path.exists(model_path):\n",
    "    for filename in os.listdir(model_path):\n",
    "        file_path = os.path.join(model_pathmodel_path, filename)\n",
    "        if os.path.isfile(file_path):\n",
    "            os.remove(file_path)\n",
    "    print(\"Deleted previous saved models.\")"
   ]
  },
  {
   "cell_type": "code",
   "execution_count": 9,
   "metadata": {
    "id": "fArqxHakePav",
    "scrolled": true
   },
   "outputs": [
    {
     "name": "stdout",
     "output_type": "stream",
     "text": [
      "WARNING:tensorflow:Skipping full serialization of Keras layer <tensorflow.python.keras.layers.normalization_v2.BatchNormalization object at 0x7f8cc2507898>, because it is not built.\n",
      "WARNING:tensorflow:Skipping full serialization of Keras layer <tensorflow.python.keras.layers.advanced_activations.ReLU object at 0x7f8cc2507470>, because it is not built.\n",
      "INFO:tensorflow:Assets written to: ./saved_model/ResNet18/assets\n",
      "Model saved to ./save_model/ResNet18\n"
     ]
    }
   ],
   "source": [
    "trainer.model.save(model_path)\n",
    "print(\"Model saved to ./save_model/ResNet18\")"
   ]
  },
  {
   "cell_type": "code",
   "execution_count": 10,
   "metadata": {},
   "outputs": [
    {
     "data": {
      "image/png": "[encoded data removed]",
      "text/plain": [
       "<Figure size 576x360 with 1 Axes>"
      ]
     },
     "metadata": {
      "needs_background": "light"
     },
     "output_type": "display_data"
    }
   ],
   "source": [
    "plt.figure(figsize=(8, 5))\n",
    "plt.plot(trainer.train_loss_history, label='Training Loss')\n",
    "plt.plot(trainer.test_loss_history, label='Validation Loss')\n",
    "plt.title('Training and Validation Loss')\n",
    "plt.xlabel('Epochs')\n",
    "plt.ylabel('Loss')\n",
    "plt.legend()\n",
    "plt.show()"
   ]
  },
  {
   "cell_type": "code",
   "execution_count": 11,
   "metadata": {},
   "outputs": [
    {
     "data": {
      "image/png": "[encoded data removed]",
      "text/plain": [
       "<Figure size 576x360 with 1 Axes>"
      ]
     },
     "metadata": {
      "needs_background": "light"
     },
     "output_type": "display_data"
    }
   ],
   "source": [
    "plt.figure(figsize=(8, 5))\n",
    "plt.plot(trainer.train_accuracy_history, label='Training Accuracy')\n",
    "plt.plot(trainer.test_accuracy_history, label='Validation Accuracy')\n",
    "plt.title('Training and Validation Accuracy')\n",
    "plt.xlabel('Epochs')\n",
    "plt.ylabel('Accuracy (%)')\n",
    "plt.legend()\n",
    "plt.show()"
   ]
  },
  {
   "cell_type": "markdown",
   "metadata": {
    "id": "vsUE2oxdRM1H"
   },
   "source": [
    "### Calculation of Shapley values"
   ]
  },
  {
   "cell_type": "code",
   "execution_count": 12,
   "metadata": {
    "id": "TpIl5EZiPyls"
   },
   "outputs": [
    {
     "ename": "RuntimeError",
     "evalue": "Visible devices cannot be modified after being initialized",
     "output_type": "error",
     "traceback": [
      "\u001b[0;31m---------------------------------------------------------------------------\u001b[0m",
      "\u001b[0;31mRuntimeError\u001b[0m                              Traceback (most recent call last)",
      "\u001b[0;32m<ipython-input-12-d9f14ec4f048>\u001b[0m in \u001b[0;36m<module>\u001b[0;34m\u001b[0m\n\u001b[1;32m      2\u001b[0m \u001b[0;32mimport\u001b[0m \u001b[0mtensorflow\u001b[0m \u001b[0;32mas\u001b[0m \u001b[0mtf\u001b[0m\u001b[0;34m\u001b[0m\u001b[0;34m\u001b[0m\u001b[0m\n\u001b[1;32m      3\u001b[0m \u001b[0;34m\u001b[0m\u001b[0m\n\u001b[0;32m----> 4\u001b[0;31m \u001b[0mtf\u001b[0m\u001b[0;34m.\u001b[0m\u001b[0mconfig\u001b[0m\u001b[0;34m.\u001b[0m\u001b[0mset_visible_devices\u001b[0m\u001b[0;34m(\u001b[0m\u001b[0;34m[\u001b[0m\u001b[0;34m]\u001b[0m\u001b[0;34m,\u001b[0m \u001b[0;34m'GPU'\u001b[0m\u001b[0;34m)\u001b[0m\u001b[0;34m\u001b[0m\u001b[0;34m\u001b[0m\u001b[0m\n\u001b[0m\u001b[1;32m      5\u001b[0m \u001b[0;32mimport\u001b[0m \u001b[0mnumpy\u001b[0m \u001b[0;32mas\u001b[0m \u001b[0mnp\u001b[0m\u001b[0;34m\u001b[0m\u001b[0;34m\u001b[0m\u001b[0m\n\u001b[1;32m      6\u001b[0m \u001b[0;32mfrom\u001b[0m \u001b[0mtensorflow\u001b[0m\u001b[0;34m.\u001b[0m\u001b[0mkeras\u001b[0m\u001b[0;34m.\u001b[0m\u001b[0mdatasets\u001b[0m \u001b[0;32mimport\u001b[0m \u001b[0mcifar10\u001b[0m\u001b[0;34m\u001b[0m\u001b[0;34m\u001b[0m\u001b[0m\n",
      "\u001b[0;32m~/envTF24/lib/python3.6/site-packages/tensorflow/python/framework/config.py\u001b[0m in \u001b[0;36mset_visible_devices\u001b[0;34m(devices, device_type)\u001b[0m\n\u001b[1;32m    508\u001b[0m     \u001b[0mRuntimeError\u001b[0m\u001b[0;34m:\u001b[0m \u001b[0mRuntime\u001b[0m \u001b[0;32mis\u001b[0m \u001b[0malready\u001b[0m \u001b[0minitialized\u001b[0m\u001b[0;34m.\u001b[0m\u001b[0;34m\u001b[0m\u001b[0;34m\u001b[0m\u001b[0m\n\u001b[1;32m    509\u001b[0m   \"\"\"\n\u001b[0;32m--> 510\u001b[0;31m   \u001b[0mcontext\u001b[0m\u001b[0;34m.\u001b[0m\u001b[0mcontext\u001b[0m\u001b[0;34m(\u001b[0m\u001b[0;34m)\u001b[0m\u001b[0;34m.\u001b[0m\u001b[0mset_visible_devices\u001b[0m\u001b[0;34m(\u001b[0m\u001b[0mdevices\u001b[0m\u001b[0;34m,\u001b[0m \u001b[0mdevice_type\u001b[0m\u001b[0;34m)\u001b[0m\u001b[0;34m\u001b[0m\u001b[0;34m\u001b[0m\u001b[0m\n\u001b[0m\u001b[1;32m    511\u001b[0m \u001b[0;34m\u001b[0m\u001b[0m\n\u001b[1;32m    512\u001b[0m \u001b[0;34m\u001b[0m\u001b[0m\n",
      "\u001b[0;32m~/envTF24/lib/python3.6/site-packages/tensorflow/python/eager/context.py\u001b[0m in \u001b[0;36mset_visible_devices\u001b[0;34m(self, devices, device_type)\u001b[0m\n\u001b[1;32m   1409\u001b[0m     \u001b[0;32mif\u001b[0m \u001b[0mself\u001b[0m\u001b[0;34m.\u001b[0m\u001b[0m_context_handle\u001b[0m \u001b[0;32mis\u001b[0m \u001b[0;32mnot\u001b[0m \u001b[0;32mNone\u001b[0m\u001b[0;34m:\u001b[0m\u001b[0;34m\u001b[0m\u001b[0;34m\u001b[0m\u001b[0m\n\u001b[1;32m   1410\u001b[0m       raise RuntimeError(\n\u001b[0;32m-> 1411\u001b[0;31m           \"Visible devices cannot be modified after being initialized\")\n\u001b[0m\u001b[1;32m   1412\u001b[0m \u001b[0;34m\u001b[0m\u001b[0m\n\u001b[1;32m   1413\u001b[0m     \u001b[0mself\u001b[0m\u001b[0;34m.\u001b[0m\u001b[0m_visible_device_list\u001b[0m \u001b[0;34m=\u001b[0m \u001b[0mvisible_device_list\u001b[0m\u001b[0;34m\u001b[0m\u001b[0;34m\u001b[0m\u001b[0m\n",
      "\u001b[0;31mRuntimeError\u001b[0m: Visible devices cannot be modified after being initialized"
     ]
    }
   ],
   "source": [
    "import os\n",
    "import tensorflow as tf\n",
    "\n",
    "#tf.config.set_visible_devices([], 'GPU')\n",
    "import numpy as np\n",
    "from tensorflow.keras.datasets import cifar10\n",
    "from tensorflow.keras.models import load_model\n",
    "from pathlib import Path\n",
    "import time\n",
    "#########from utils.utils import set_seed, cifar10_std, cifar10_mean\n",
    "from utils.ResNet18_trainer import std, mean\n",
    "from tensorflow.keras.preprocessing.image import save_img\n",
    "from utils.ResNet18_trainer import ResNet18_trainer, load_cifar10_dataset\n",
    "\n",
    "%matplotlib inline\n",
    "%load_ext autoreload\n",
    "%autoreload 2\n",
    "\n",
    "from utils.Shapley_Value_Calculator import getShapley_pixel, getShapley_freq, getShapley_freq_dis, sample_mask, getShapley_freq_softmax, visual_shap\n"
   ]
  },
  {
   "cell_type": "code",
   "execution_count": 2,
   "metadata": {
    "id": "bmii_IhdPyn-"
   },
   "outputs": [],
   "source": [
    "#model_name = 'ResNet18'\n",
    "#dataset_name = 'cifar10'\n",
    "#data_path = '~/data'\n",
    "output_path = './output'\n",
    "#model_path = \"./save_model/ResNet18\"\n",
    "model_path = \"./saved_model/ResNet18\"\n",
    "sample_times = 2  #000\n",
    "#num_per_class = 150\n",
    "#testdata = False\n",
    "mask_size = 3 #16\n",
    "n_per_batch = 1\n",
    "start_num = 0\n",
    "get_freq_by_dis = False\n",
    "fix_mask = False\n",
    "split_n = 1\n",
    "static_center = False\n",
    "#norm = True\n",
    "batch_size = 64\n",
    "num_classes=10\n",
    "seed = 111\n",
    "\n",
    "tf.random.set_seed(seed)\n"
   ]
  },
  {
   "cell_type": "code",
   "execution_count": 3,
   "metadata": {
    "id": "hXX39alyPyun"
   },
   "outputs": [],
   "source": [
    "# Load model\n",
    "model = tf.keras.models.load_model(model_path, compile=False)\n"
   ]
  },
  {
   "cell_type": "code",
   "execution_count": 4,
   "metadata": {},
   "outputs": [],
   "source": [
    "train_ds, test_ds = load_cifar10_dataset(batch_size)"
   ]
  },
  {
   "cell_type": "code",
   "execution_count": 18,
   "metadata": {
    "id": "gYeAt1MUPywK"
   },
   "outputs": [
    {
     "name": "stdout",
     "output_type": "stream",
     "text": [
      "masked_img: (10, 32, 32, 3)\n",
      "output: tf.Tensor(\n",
      "[[0.23004371 0.08545776 0.08545773 0.08545984 0.08547141 0.08546851\n",
      "  0.08545774 0.08624364 0.08548196 0.08545772]\n",
      " [0.23042291 0.08543406 0.08543403 0.08543575 0.08544731 0.08544244\n",
      "  0.08543404 0.08605764 0.08545781 0.08543402]\n",
      " [0.23179635 0.08534768 0.0853477  0.08535112 0.08535769 0.08539087\n",
      "  0.0853478  0.08535969 0.08535343 0.08534768]\n",
      " [0.08670476 0.08670474 0.08670475 0.20824602 0.08671855 0.08680054\n",
      "  0.09800629 0.08670474 0.08670482 0.08670474]\n",
      " [0.08856246 0.08856243 0.08856244 0.14857693 0.08858189 0.08949233\n",
      "  0.1419742  0.08856243 0.08856256 0.08856243]\n",
      " [0.08855362 0.08855359 0.0885536  0.15008233 0.08857064 0.08945534\n",
      "  0.14056994 0.08855359 0.08855373 0.08855359]\n",
      " [0.20484433 0.08692041 0.08693397 0.08700698 0.08738143 0.08692417\n",
      "  0.09543724 0.0869197  0.09071218 0.08691965]\n",
      " [0.21140927 0.08656679 0.08658959 0.08660477 0.08709224 0.0865689\n",
      "  0.09136546 0.08656618 0.09067071 0.08656615]\n",
      " [0.22586733 0.08571618 0.08588831 0.08572442 0.08598114 0.08571671\n",
      "  0.08784936 0.08571582 0.0858248  0.08571594]\n",
      " [0.22746493 0.08561844 0.08581486 0.0856236  0.08585925 0.08561867\n",
      "  0.08705109 0.08561813 0.08571283 0.08561824]], shape=(10, 10), dtype=float32)\n",
      "y: tf.Tensor([0 0 0 3 3 3 0 0 0 0], shape=(10,), dtype=int64)\n"
     ]
    },
    {
     "ename": "TypeError",
     "evalue": "Only integers, slices (`:`), ellipsis (`...`), tf.newaxis (`None`) and scalar tf.int32/tf.int64 tensors are valid indices, got array([0, 1, 4, 5, 6, 7, 8, 3, 2])",
     "output_type": "error",
     "traceback": [
      "\u001b[0;31m---------------------------------------------------------------------------\u001b[0m",
      "\u001b[0;31mTypeError\u001b[0m                                 Traceback (most recent call last)",
      "\u001b[0;32m<ipython-input-18-02afb54620fe>\u001b[0m in \u001b[0;36m<module>\u001b[0;34m\u001b[0m\n\u001b[1;32m     15\u001b[0m                 \u001b[0mn_per_batch\u001b[0m\u001b[0;34m=\u001b[0m\u001b[0mn_per_batch\u001b[0m\u001b[0;34m,\u001b[0m\u001b[0;34m\u001b[0m\u001b[0;34m\u001b[0m\u001b[0m\n\u001b[1;32m     16\u001b[0m                 \u001b[0msplit_n\u001b[0m\u001b[0;34m=\u001b[0m\u001b[0msplit_n\u001b[0m\u001b[0;34m,\u001b[0m\u001b[0;34m\u001b[0m\u001b[0;34m\u001b[0m\u001b[0m\n\u001b[0;32m---> 17\u001b[0;31m                 \u001b[0mstatic_center\u001b[0m\u001b[0;34m=\u001b[0m\u001b[0;32mFalse\u001b[0m\u001b[0;34m\u001b[0m\u001b[0;34m\u001b[0m\u001b[0m\n\u001b[0m\u001b[1;32m     18\u001b[0m             )\n\u001b[1;32m     19\u001b[0m \u001b[0;34m\u001b[0m\u001b[0m\n",
      "\u001b[0;32m~/e4040-2024fall-project-myzh/utils/Shapley_Value_Calculator.py\u001b[0m in \u001b[0;36mgetShapley_freq_softmax\u001b[0;34m(img, label, model, sample_times, mask_size, k, n_per_batch, split_n, static_center, fix_masks, mask_path)\u001b[0m\n\u001b[1;32m    256\u001b[0m \u001b[0;34m\u001b[0m\u001b[0m\n\u001b[1;32m    257\u001b[0m         \u001b[0;31m# shap_value = tf.tensor_scatter_nd_add(shap_value,tf.reshape(order, (-1, 1)),dy)\u001b[0m\u001b[0;34m\u001b[0m\u001b[0;34m\u001b[0m\u001b[0;34m\u001b[0m\u001b[0m\n\u001b[0;32m--> 258\u001b[0;31m         \u001b[0mshap_value\u001b[0m\u001b[0;34m[\u001b[0m\u001b[0morder\u001b[0m\u001b[0;34m]\u001b[0m \u001b[0;34m+=\u001b[0m \u001b[0mdy\u001b[0m\u001b[0;34m\u001b[0m\u001b[0;34m\u001b[0m\u001b[0m\n\u001b[0m\u001b[1;32m    259\u001b[0m \u001b[0;34m\u001b[0m\u001b[0m\n\u001b[1;32m    260\u001b[0m         \u001b[0;32mif\u001b[0m \u001b[0mi\u001b[0m \u001b[0;34m%\u001b[0m \u001b[0;36m100\u001b[0m \u001b[0;34m==\u001b[0m \u001b[0;36m0\u001b[0m\u001b[0;34m:\u001b[0m\u001b[0;34m\u001b[0m\u001b[0;34m\u001b[0m\u001b[0m\n",
      "\u001b[0;32m~/envTF24/lib/python3.6/site-packages/tensorflow/python/util/dispatch.py\u001b[0m in \u001b[0;36mwrapper\u001b[0;34m(*args, **kwargs)\u001b[0m\n\u001b[1;32m    199\u001b[0m     \u001b[0;34m\"\"\"Call target, and fall back on dispatchers if there is a TypeError.\"\"\"\u001b[0m\u001b[0;34m\u001b[0m\u001b[0;34m\u001b[0m\u001b[0m\n\u001b[1;32m    200\u001b[0m     \u001b[0;32mtry\u001b[0m\u001b[0;34m:\u001b[0m\u001b[0;34m\u001b[0m\u001b[0;34m\u001b[0m\u001b[0m\n\u001b[0;32m--> 201\u001b[0;31m       \u001b[0;32mreturn\u001b[0m \u001b[0mtarget\u001b[0m\u001b[0;34m(\u001b[0m\u001b[0;34m*\u001b[0m\u001b[0margs\u001b[0m\u001b[0;34m,\u001b[0m \u001b[0;34m**\u001b[0m\u001b[0mkwargs\u001b[0m\u001b[0;34m)\u001b[0m\u001b[0;34m\u001b[0m\u001b[0;34m\u001b[0m\u001b[0m\n\u001b[0m\u001b[1;32m    202\u001b[0m     \u001b[0;32mexcept\u001b[0m \u001b[0;34m(\u001b[0m\u001b[0mTypeError\u001b[0m\u001b[0;34m,\u001b[0m \u001b[0mValueError\u001b[0m\u001b[0;34m)\u001b[0m\u001b[0;34m:\u001b[0m\u001b[0;34m\u001b[0m\u001b[0;34m\u001b[0m\u001b[0m\n\u001b[1;32m    203\u001b[0m       \u001b[0;31m# Note: convert_to_eager_tensor currently raises a ValueError, not a\u001b[0m\u001b[0;34m\u001b[0m\u001b[0;34m\u001b[0m\u001b[0;34m\u001b[0m\u001b[0m\n",
      "\u001b[0;32m~/envTF24/lib/python3.6/site-packages/tensorflow/python/ops/array_ops.py\u001b[0m in \u001b[0;36m_slice_helper\u001b[0;34m(tensor, slice_spec, var)\u001b[0m\n\u001b[1;32m   1007\u001b[0m       \u001b[0mnew_axis_mask\u001b[0m \u001b[0;34m|=\u001b[0m \u001b[0;34m(\u001b[0m\u001b[0;36m1\u001b[0m \u001b[0;34m<<\u001b[0m \u001b[0mindex\u001b[0m\u001b[0;34m)\u001b[0m\u001b[0;34m\u001b[0m\u001b[0;34m\u001b[0m\u001b[0m\n\u001b[1;32m   1008\u001b[0m     \u001b[0;32melse\u001b[0m\u001b[0;34m:\u001b[0m\u001b[0;34m\u001b[0m\u001b[0;34m\u001b[0m\u001b[0m\n\u001b[0;32m-> 1009\u001b[0;31m       \u001b[0m_check_index\u001b[0m\u001b[0;34m(\u001b[0m\u001b[0ms\u001b[0m\u001b[0;34m)\u001b[0m\u001b[0;34m\u001b[0m\u001b[0;34m\u001b[0m\u001b[0m\n\u001b[0m\u001b[1;32m   1010\u001b[0m       \u001b[0mbegin\u001b[0m\u001b[0;34m.\u001b[0m\u001b[0mappend\u001b[0m\u001b[0;34m(\u001b[0m\u001b[0ms\u001b[0m\u001b[0;34m)\u001b[0m\u001b[0;34m\u001b[0m\u001b[0;34m\u001b[0m\u001b[0m\n\u001b[1;32m   1011\u001b[0m       \u001b[0mend\u001b[0m\u001b[0;34m.\u001b[0m\u001b[0mappend\u001b[0m\u001b[0;34m(\u001b[0m\u001b[0ms\u001b[0m \u001b[0;34m+\u001b[0m \u001b[0;36m1\u001b[0m\u001b[0;34m)\u001b[0m\u001b[0;34m\u001b[0m\u001b[0;34m\u001b[0m\u001b[0m\n",
      "\u001b[0;32m~/envTF24/lib/python3.6/site-packages/tensorflow/python/ops/array_ops.py\u001b[0m in \u001b[0;36m_check_index\u001b[0;34m(idx)\u001b[0m\n\u001b[1;32m    884\u001b[0m     \u001b[0;31m# TODO(slebedev): IndexError seems more appropriate here, but it\u001b[0m\u001b[0;34m\u001b[0m\u001b[0;34m\u001b[0m\u001b[0;34m\u001b[0m\u001b[0m\n\u001b[1;32m    885\u001b[0m     \u001b[0;31m# will break `_slice_helper` contract.\u001b[0m\u001b[0;34m\u001b[0m\u001b[0;34m\u001b[0m\u001b[0;34m\u001b[0m\u001b[0m\n\u001b[0;32m--> 886\u001b[0;31m     \u001b[0;32mraise\u001b[0m \u001b[0mTypeError\u001b[0m\u001b[0;34m(\u001b[0m\u001b[0m_SLICE_TYPE_ERROR\u001b[0m \u001b[0;34m+\u001b[0m \u001b[0;34m\", got {!r}\"\u001b[0m\u001b[0;34m.\u001b[0m\u001b[0mformat\u001b[0m\u001b[0;34m(\u001b[0m\u001b[0midx\u001b[0m\u001b[0;34m)\u001b[0m\u001b[0;34m)\u001b[0m\u001b[0;34m\u001b[0m\u001b[0;34m\u001b[0m\u001b[0m\n\u001b[0m\u001b[1;32m    887\u001b[0m \u001b[0;34m\u001b[0m\u001b[0m\n\u001b[1;32m    888\u001b[0m \u001b[0;34m\u001b[0m\u001b[0m\n",
      "\u001b[0;31mTypeError\u001b[0m: Only integers, slices (`:`), ellipsis (`...`), tf.newaxis (`None`) and scalar tf.int32/tf.int64 tensors are valid indices, got array([0, 1, 4, 5, 6, 7, 8, 3, 2])"
     ]
    }
   ],
   "source": [
    "count = [0 for _ in range(num_classes)]\n",
    "\n",
    "dataset = test_ds\n",
    "\n",
    "for img, y in dataset:\n",
    "    bs, w, h, c = img.shape\n",
    "    img, y = tf.convert_to_tensor(img), tf.convert_to_tensor(y)\n",
    "\n",
    "    for k in range(bs):\n",
    "        if count[y[k].numpy()[0]] < 0:\n",
    "            count[y[k].numpy()[0]] += 1\n",
    "        elif count[y[k].numpy()[0]] < 50:\n",
    "            shap_value = getShapley_freq_softmax(\n",
    "                img, y, model, sample_times, mask_size, k,\n",
    "                n_per_batch=n_per_batch,\n",
    "                split_n=split_n,\n",
    "                static_center=False\n",
    "            )\n",
    "\n",
    "            shap_path = os.path.join('', \"shap_result\", f\"{y[k].numpy()[0]}\")\n",
    "            Path(shap_path).mkdir(parents=True, exist_ok=True)\n",
    "            np.save(os.path.join(shap_path, f\"{count[y[k].numpy()[0]]}_freq.npy\"), shap_value)\n",
    "\n",
    "            visual_path = os.path.join(shap_path, f\"{count[y[k].numpy()[0]]}_freq_shap.png\")\n",
    "            visual_shap(shap_value, mask_size, mask_size, visual_path)\n",
    "\n",
    "            raw_img = img[k].numpy()\n",
    "            img_path = os.path.join(shap_path, f\"{count[y[k].numpy()[0]]}.png\")\n",
    "            \n",
    "            for j in range(3):\n",
    "                raw_img[:, :, j] = raw_img[:, :, j] * std[j] + mean[j]\n",
    "            save_img(img_path, raw_img)\n",
    "\n",
    "            count[y[k].numpy()[0]] += 1\n",
    "            print(f\"Class {y[k].numpy()[0]} sample {count[y[k].numpy()[0]]} completed.\")\n"
   ]
  },
  {
   "cell_type": "code",
   "execution_count": 20,
   "metadata": {},
   "outputs": [
    {
     "ename": "TypeError",
     "evalue": "'PrefetchDataset' object does not support indexing",
     "output_type": "error",
     "traceback": [
      "\u001b[0;31m---------------------------------------------------------------------------\u001b[0m",
      "\u001b[0;31mTypeError\u001b[0m                                 Traceback (most recent call last)",
      "\u001b[0;32m<ipython-input-20-21ad2a0d11fe>\u001b[0m in \u001b[0;36m<module>\u001b[0;34m\u001b[0m\n\u001b[0;32m----> 1\u001b[0;31m \u001b[0mprint\u001b[0m\u001b[0;34m(\u001b[0m\u001b[0mtest_ds\u001b[0m\u001b[0;34m[\u001b[0m\u001b[0;36m0\u001b[0m\u001b[0;34m]\u001b[0m\u001b[0;34m.\u001b[0m\u001b[0mshape\u001b[0m\u001b[0;34m)\u001b[0m\u001b[0;34m\u001b[0m\u001b[0;34m\u001b[0m\u001b[0m\n\u001b[0m",
      "\u001b[0;31mTypeError\u001b[0m: 'PrefetchDataset' object does not support indexing"
     ]
    }
   ],
   "source": []
  },
  {
   "cell_type": "code",
   "execution_count": null,
   "metadata": {
    "id": "mY9zufwfPy2k"
   },
   "outputs": [],
   "source": []
  },
  {
   "cell_type": "code",
   "execution_count": 16,
   "metadata": {},
   "outputs": [
    {
     "name": "stdout",
     "output_type": "stream",
     "text": [
      "bbb: tf.Tensor(2, shape=(), dtype=int64)\n"
     ]
    }
   ],
   "source": [
    "aaa =np.array([2.33248621e-02, 7.49617757e-04, 3.52356344e-01, 2.36003712e-01,\n",
    "  9.61460173e-02, 2.44320214e-01, 2.27117091e-02, 1.11861918e-02,\n",
    "  1.22030042e-02, 9.98409465e-04])\n",
    "bbb = tf.argmax(aaa, axis=-1)\n",
    "print(\"bbb:\", bbb)\n"
   ]
  },
  {
   "cell_type": "code",
   "execution_count": null,
   "metadata": {},
   "outputs": [],
   "source": []
  },
  {
   "cell_type": "code",
   "execution_count": 15,
   "metadata": {},
   "outputs": [],
   "source": [
    "x_test = x_test.astype('float32') / 255.0"
   ]
  },
  {
   "cell_type": "code",
   "execution_count": 16,
   "metadata": {},
   "outputs": [],
   "source": [
    "predictions = model(x_test)\n",
    "\n"
   ]
  },
  {
   "cell_type": "code",
   "execution_count": 19,
   "metadata": {},
   "outputs": [
    {
     "name": "stdout",
     "output_type": "stream",
     "text": [
      "tf.Tensor(\n",
      "[[2.33248621e-02 7.49617757e-04 3.52356344e-01 2.36003712e-01\n",
      "  9.61460173e-02 2.44320214e-01 2.27117091e-02 1.11861918e-02\n",
      "  1.22030042e-02 9.98409465e-04]\n",
      " [9.09662023e-02 4.22474509e-03 5.70751190e-01 6.26687333e-02\n",
      "  1.40823543e-01 2.19893865e-02 3.51789556e-02 6.78093778e-03\n",
      "  6.36044666e-02 3.01178894e-03]\n",
      " [7.75583163e-02 1.81420823e-03 5.48251152e-01 1.09931611e-01\n",
      "  1.37956142e-01 5.25747426e-02 2.28246413e-02 7.12314062e-03\n",
      "  4.03941609e-02 1.57185376e-03]\n",
      " [1.13995209e-01 2.42476771e-03 6.25434279e-01 6.86364323e-02\n",
      "  8.29450041e-02 2.49087643e-02 2.15078499e-02 5.19478740e-03\n",
      "  5.29900864e-02 1.96281215e-03]\n",
      " [1.78613551e-02 1.25616498e-03 5.21133184e-01 1.04399949e-01\n",
      "  2.22250283e-01 6.71412796e-02 5.01192883e-02 6.65253447e-03\n",
      "  8.36848561e-03 8.17465712e-04]\n",
      " [3.92282233e-02 2.46568373e-03 5.06564260e-01 1.30733043e-01\n",
      "  1.67187288e-01 7.40858987e-02 4.40960415e-02 8.33939295e-03\n",
      "  2.52674446e-02 2.03283480e-03]\n",
      " [2.30960790e-02 5.69595257e-04 5.77167809e-01 1.05154924e-01\n",
      "  1.07835747e-01 1.43796980e-01 2.26223040e-02 1.39773833e-02\n",
      "  5.15025575e-03 6.28899958e-04]\n",
      " [7.17422590e-02 2.30351859e-03 5.61578810e-01 8.04085061e-02\n",
      "  1.74368396e-01 3.17138657e-02 3.61147337e-02 4.68962360e-03\n",
      "  3.54961567e-02 1.58405176e-03]\n",
      " [2.06858888e-02 8.63178109e-04 5.70412815e-01 1.26658723e-01\n",
      "  1.19378813e-01 1.17924340e-01 2.81894729e-02 8.56406521e-03\n",
      "  6.56403368e-03 7.58707640e-04]\n",
      " [4.58448417e-02 3.01609957e-03 4.86208290e-01 1.84218124e-01\n",
      "  9.02689099e-02 7.68279657e-02 6.93701431e-02 9.16627143e-03\n",
      "  3.15675065e-02 3.51181580e-03]], shape=(10, 10), dtype=float32)\n"
     ]
    }
   ],
   "source": [
    "print(predictions[:10])"
   ]
  },
  {
   "cell_type": "code",
   "execution_count": null,
   "metadata": {},
   "outputs": [],
   "source": []
  },
  {
   "cell_type": "code",
   "execution_count": null,
   "metadata": {},
   "outputs": [],
   "source": []
  },
  {
   "cell_type": "code",
   "execution_count": null,
   "metadata": {},
   "outputs": [],
   "source": []
  },
  {
   "cell_type": "code",
   "execution_count": null,
   "metadata": {},
   "outputs": [],
   "source": []
  },
  {
   "cell_type": "code",
   "execution_count": 17,
   "metadata": {},
   "outputs": [
    {
     "ename": "AttributeError",
     "evalue": "'tensorflow.python.framework.ops.EagerTensor' object has no attribute 'argmax'",
     "output_type": "error",
     "traceback": [
      "\u001b[0;31m---------------------------------------------------------------------------\u001b[0m",
      "\u001b[0;31mAttributeError\u001b[0m                            Traceback (most recent call last)",
      "\u001b[0;32m<ipython-input-17-f0396d4881ee>\u001b[0m in \u001b[0;36m<module>\u001b[0;34m\u001b[0m\n\u001b[1;32m      1\u001b[0m \u001b[0;31m# 输出预测结果 (例如显示前10个样本的预测标签)\u001b[0m\u001b[0;34m\u001b[0m\u001b[0;34m\u001b[0m\u001b[0;34m\u001b[0m\u001b[0m\n\u001b[0;32m----> 2\u001b[0;31m \u001b[0mpredicted_labels\u001b[0m \u001b[0;34m=\u001b[0m \u001b[0mpredictions\u001b[0m\u001b[0;34m.\u001b[0m\u001b[0margmax\u001b[0m\u001b[0;34m(\u001b[0m\u001b[0maxis\u001b[0m\u001b[0;34m=\u001b[0m\u001b[0;36m1\u001b[0m\u001b[0;34m)\u001b[0m\u001b[0;34m\u001b[0m\u001b[0;34m\u001b[0m\u001b[0m\n\u001b[0m\u001b[1;32m      3\u001b[0m \u001b[0mprint\u001b[0m\u001b[0;34m(\u001b[0m\u001b[0mpredicted_labels\u001b[0m\u001b[0;34m[\u001b[0m\u001b[0;34m:\u001b[0m\u001b[0;36m10\u001b[0m\u001b[0;34m]\u001b[0m\u001b[0;34m)\u001b[0m\u001b[0;34m\u001b[0m\u001b[0;34m\u001b[0m\u001b[0m\n",
      "\u001b[0;31mAttributeError\u001b[0m: 'tensorflow.python.framework.ops.EagerTensor' object has no attribute 'argmax'"
     ]
    }
   ],
   "source": [
    "# 输出预测结果 (例如显示前10个样本的预测标签)\n",
    "predicted_labels = predictions.argmax(axis=1)\n",
    "print(predicted_labels[:10])"
   ]
  },
  {
   "cell_type": "markdown",
   "metadata": {
    "id": "L1QgHrNGPy4j"
   },
   "source": [
    "### Reconstructing Shapley Values"
   ]
  },
  {
   "cell_type": "code",
   "execution_count": 1,
   "metadata": {},
   "outputs": [
    {
     "ename": "ImportError",
     "evalue": "cannot import name 'save_img'",
     "output_type": "error",
     "traceback": [
      "\u001b[0;31m---------------------------------------------------------------------------\u001b[0m",
      "\u001b[0;31mImportError\u001b[0m                               Traceback (most recent call last)",
      "\u001b[0;32m<ipython-input-1-58f3bc460585>\u001b[0m in \u001b[0;36m<module>\u001b[0;34m\u001b[0m\n\u001b[1;32m      8\u001b[0m \u001b[0;32mimport\u001b[0m \u001b[0mmatplotlib\u001b[0m\u001b[0;34m.\u001b[0m\u001b[0mpyplot\u001b[0m \u001b[0;32mas\u001b[0m \u001b[0mplt\u001b[0m\u001b[0;34m\u001b[0m\u001b[0;34m\u001b[0m\u001b[0m\n\u001b[1;32m      9\u001b[0m \u001b[0;32mfrom\u001b[0m \u001b[0mtensorflow\u001b[0m\u001b[0;34m.\u001b[0m\u001b[0msignal\u001b[0m \u001b[0;32mimport\u001b[0m \u001b[0mfft2d\u001b[0m\u001b[0;34m,\u001b[0m \u001b[0mifft2d\u001b[0m\u001b[0;34m\u001b[0m\u001b[0;34m\u001b[0m\u001b[0m\n\u001b[0;32m---> 10\u001b[0;31m \u001b[0;32mfrom\u001b[0m \u001b[0mtensorflow\u001b[0m\u001b[0;34m.\u001b[0m\u001b[0mkeras\u001b[0m\u001b[0;34m.\u001b[0m\u001b[0mutils\u001b[0m \u001b[0;32mimport\u001b[0m \u001b[0msave_img\u001b[0m\u001b[0;34m\u001b[0m\u001b[0;34m\u001b[0m\u001b[0m\n\u001b[0m",
      "\u001b[0;31mImportError\u001b[0m: cannot import name 'save_img'"
     ]
    }
   ],
   "source": [
    "import os\n",
    "import tensorflow as tf\n",
    "import numpy as np\n",
    "from tensorflow.keras.preprocessing.image import load_img, img_to_array\n",
    "from tensorflow.image import resize\n",
    "from pathlib import Path\n",
    "import math\n",
    "import matplotlib.pyplot as plt\n",
    "from tensorflow.signal import fft2d, ifft2d\n",
    "from tensorflow.keras.utils import save_img"
   ]
  },
  {
   "cell_type": "code",
   "execution_count": null,
   "metadata": {},
   "outputs": [],
   "source": [
    "path = \"your_data_path\"\n",
    "recon_path = os.path.join(path, \"reconstruction\")\n",
    "ifft_path = os.path.join(path, \"ifft\")\n",
    "shap_path = os.path.join(path, \"shap_result\")"
   ]
  },
  {
   "cell_type": "code",
   "execution_count": null,
   "metadata": {},
   "outputs": [],
   "source": [
    "os.makedirs(recon_path, exist_ok=True)\n",
    "os.makedirs(ifft_path, exist_ok=True)"
   ]
  },
  {
   "cell_type": "code",
   "execution_count": null,
   "metadata": {},
   "outputs": [],
   "source": [
    "train_norm = False  # 替代 cfg.train.norm\n",
    "cifar10_mean = [0.4914, 0.4822, 0.4465]\n",
    "cifar10_std = [0.2023, 0.1994, 0.2010]"
   ]
  },
  {
   "cell_type": "code",
   "execution_count": null,
   "metadata": {},
   "outputs": [],
   "source": [
    "# 定义数据增强操作\n",
    "def preprocess_image(img_path):\n",
    "    img = load_img(img_path)\n",
    "    img = img_to_array(img) / 255.0\n",
    "    img = resize(img, [32, 32])  # 假设目标是 CIFAR-10 大小\n",
    "    return tf.convert_to_tensor(img, dtype=tf.float32)"
   ]
  },
  {
   "cell_type": "code",
   "execution_count": null,
   "metadata": {},
   "outputs": [],
   "source": [
    "# 遍历类文件夹\n",
    "classes = os.listdir(shap_path)"
   ]
  },
  {
   "cell_type": "code",
   "execution_count": null,
   "metadata": {},
   "outputs": [],
   "source": [
    "# 处理每个类\n",
    "for class_name in classes:\n",
    "    result_path = os.path.join(shap_path, class_name)\n",
    "    if not os.path.isdir(result_path):\n",
    "        continue\n",
    "\n",
    "    files = os.listdir(result_path)\n",
    "    for file in files:\n",
    "        if \".png\" not in file or \"shap\" in file:\n",
    "            continue\n",
    "\n",
    "        # 加载图片\n",
    "        img_path = os.path.join(result_path, file)\n",
    "        img = preprocess_image(img_path)\n",
    "\n",
    "        # FFT 转换\n",
    "        freq = fft2d(tf.cast(img, tf.complex64))\n",
    "\n",
    "        # 加载频域 shap 值\n",
    "        freq_shap_file = file.split('.')[0] + \"_freq.npy\"\n",
    "        freq_shap_path = os.path.join(result_path, freq_shap_file)\n",
    "        freq_shap = np.load(freq_shap_path)\n",
    "        mask_size = int(math.sqrt(freq_shap.size))\n",
    "        freq_shap = tf.reshape(freq_shap, [1, mask_size, mask_size])\n",
    "\n",
    "        # 扩展为多通道\n",
    "        freq_shap = tf.tile(freq_shap, [3, 1, 1])  # 假设 3 个通道\n",
    "        freq_shap = tf.image.resize(freq_shap, [img.shape[0], img.shape[1]])\n",
    "\n",
    "        # 构造正负掩码\n",
    "        mask_pos = tf.cast(freq_shap > 0, tf.complex64)\n",
    "        mask_neg = tf.cast(freq_shap < 0, tf.complex64)\n",
    "\n",
    "        # 去除中心频率\n",
    "        mask_pos = tf.tensor_scatter_nd_update(\n",
    "            mask_pos, [[mask_pos.shape[1] // 2, mask_pos.shape[2] // 2]], [0]\n",
    "        )\n",
    "        mask_neg = tf.tensor_scatter_nd_update(\n",
    "            mask_neg, [[mask_neg.shape[1] // 2, mask_neg.shape[2] // 2]], [0]\n",
    "        )\n",
    "\n",
    "        # 生成正负频域图片\n",
    "        pos_freq = freq * mask_pos\n",
    "        neg_freq = freq * mask_neg\n",
    "\n",
    "        pos_img = tf.math.real(ifft2d(pos_freq))\n",
    "        neg_img = tf.math.real(ifft2d(neg_freq))\n",
    "\n",
    "        # 去标准化\n",
    "        for c in range(3):\n",
    "            pos_img[..., c] = pos_img[..., c] * std[c] + mean[c]\n",
    "            neg_img[..., c] = neg_img[..., c] * std[c] + mean[c]\n",
    "\n",
    "        # 保存图片\n",
    "        recon_class_path = os.path.join(recon_path, class_name)\n",
    "        os.makedirs(recon_class_path, exist_ok=True)\n",
    "        save_img(os.path.join(recon_class_path, f\"{file.split('.')[0]}_pos.png\"), pos_img)\n",
    "        save_img(os.path.join(recon_class_path, f\"{file.split('.')[0]}_neg.png\"), neg_img)"
   ]
  },
  {
   "cell_type": "code",
   "execution_count": null,
   "metadata": {},
   "outputs": [],
   "source": []
  },
  {
   "cell_type": "markdown",
   "metadata": {},
   "source": [
    "### Train ResNet18 under AT with CSA"
   ]
  },
  {
   "cell_type": "code",
   "execution_count": null,
   "metadata": {},
   "outputs": [],
   "source": []
  }
 ],
 "metadata": {
  "colab": {
   "provenance": []
  },
  "kernelspec": {
   "display_name": "Python 3",
   "language": "python",
   "name": "python3"
  },
  "language_info": {
   "codemirror_mode": {
    "name": "ipython",
    "version": 3
   },
   "file_extension": ".py",
   "mimetype": "text/x-python",
   "name": "python",
   "nbconvert_exporter": "python",
   "pygments_lexer": "ipython3",
   "version": "3.6.9"
  }
 },
 "nbformat": 4,
 "nbformat_minor": 1
}
