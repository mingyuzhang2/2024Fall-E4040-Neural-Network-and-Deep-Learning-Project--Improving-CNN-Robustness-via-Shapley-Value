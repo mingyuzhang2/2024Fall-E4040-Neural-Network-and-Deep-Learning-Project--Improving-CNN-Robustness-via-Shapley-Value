{
 "cells": [
  {
   "cell_type": "markdown",
   "metadata": {
    "id": "mm-nwhNRQ8wy"
   },
   "source": [
    "## E4040 2024 Fall Project\n",
    "### Improving CNN Robustness via CS Shapley Value-guided Augmentation"
   ]
  },
  {
   "cell_type": "code",
   "execution_count": 1,
   "metadata": {
    "id": "VW8-sXpHQ69k"
   },
   "outputs": [
    {
     "data": {
      "text/plain": [
       "'/device:GPU:0'"
      ]
     },
     "execution_count": 1,
     "metadata": {},
     "output_type": "execute_result"
    }
   ],
   "source": [
    "%matplotlib inline\n",
    "%load_ext autoreload\n",
    "%autoreload 2\n",
    "\n",
    "import numpy as np\n",
    "import tensorflow as tf\n",
    "import os\n",
    "import matplotlib.pyplot as plt\n",
    "\n",
    "tf.test.gpu_device_name()"
   ]
  },
  {
   "cell_type": "markdown",
   "metadata": {
    "id": "aEhf0dW5Qgdw"
   },
   "source": [
    "### Import CIFAR-10 data and training ResNet18 with 140 epochs"
   ]
  },
  {
   "cell_type": "code",
   "execution_count": 2,
   "metadata": {
    "id": "Hi8OkdYcSEq7"
   },
   "outputs": [],
   "source": [
    "from utils.ResNet18_trainer import ResNet18_trainer, load_cifar10_dataset"
   ]
  },
  {
   "cell_type": "code",
   "execution_count": 13,
   "metadata": {
    "id": "luF2f1RQeQAu"
   },
   "outputs": [],
   "source": [
    "batch_size = 128\n",
    "lr = 0.1\n",
    "momentum = 0.9\n",
    "decay = 0.0005\n",
    "epochs=140\n",
    "num_classes=10\n",
    "checkpoint_dir=\"./checkpoints1\"\n",
    "model_path = \"./saved_model1\""
   ]
  },
  {
   "cell_type": "code",
   "execution_count": 4,
   "metadata": {},
   "outputs": [],
   "source": [
    "train_ds, test_ds = load_cifar10_dataset(batch_size)"
   ]
  },
  {
   "cell_type": "code",
   "execution_count": 14,
   "metadata": {
    "id": "ZaCpuzjJeP-n"
   },
   "outputs": [],
   "source": [
    "trainer = ResNet18_trainer(\n",
    "    train_ds=train_ds,\n",
    "    test_ds=test_ds,\n",
    "    num_classes=num_classes,\n",
    "    epochs=epochs,\n",
    "    batch_size=batch_size,\n",
    "    lr=lr,\n",
    "    momentum=momentum,\n",
    "    decay=decay,\n",
    "    checkpoint_dir=checkpoint_dir\n",
    ")"
   ]
  },
  {
   "cell_type": "code",
   "execution_count": 6,
   "metadata": {
    "id": "Y_2-LAmwePdc",
    "scrolled": true
   },
   "outputs": [
    {
     "name": "stdout",
     "output_type": "stream",
     "text": [
      "No checkpoint found. Starting from scratch.\n",
      "Training Epoch 1\n",
      "Epoch 1, Loss: 2.095428228378296, Accuracy: 28.255998611450195, Test Loss: 1.6118888854980469, Test Accuracy: 44.040000915527344, Training Time: 0:01:02.430005\n",
      "Checkpoint saved at: ./checkpoints1/ckpt_epoch_1.h5\n",
      "Training Epoch 2\n",
      "Epoch 2, Loss: 2.0771191120147705, Accuracy: 30.57200050354004, Test Loss: 1.758311152458191, Test Accuracy: 38.08000183105469, Training Time: 0:00:58.540582\n",
      "Checkpoint saved at: ./checkpoints1/ckpt_epoch_2.h5\n",
      "Training Epoch 3\n",
      "Epoch 3, Loss: 1.4639434814453125, Accuracy: 46.21799850463867, Test Loss: 1.309072732925415, Test Accuracy: 52.53000259399414, Training Time: 0:00:58.790855\n",
      "Checkpoint saved at: ./checkpoints1/ckpt_epoch_3.h5\n",
      "Training Epoch 4\n",
      "Epoch 4, Loss: 1.2046153545379639, Accuracy: 56.906002044677734, Test Loss: 1.1565386056900024, Test Accuracy: 58.71999740600586, Training Time: 0:00:58.762463\n",
      "Checkpoint saved at: ./checkpoints1/ckpt_epoch_4.h5\n",
      "Training Epoch 5\n",
      "Epoch 5, Loss: 0.9929884672164917, Accuracy: 64.93399810791016, Test Loss: 1.0025403499603271, Test Accuracy: 65.08000183105469, Training Time: 0:00:58.844685\n",
      "Checkpoint saved at: ./checkpoints1/ckpt_epoch_5.h5\n",
      "Training Epoch 6\n",
      "Epoch 6, Loss: 0.8489893674850464, Accuracy: 70.16400146484375, Test Loss: 1.0019787549972534, Test Accuracy: 66.47999572753906, Training Time: 0:00:58.840048\n",
      "Checkpoint saved at: ./checkpoints1/ckpt_epoch_6.h5\n",
      "Training Epoch 7\n",
      "Epoch 7, Loss: 0.7237706780433655, Accuracy: 74.77200317382812, Test Loss: 0.9149470329284668, Test Accuracy: 69.76000213623047, Training Time: 0:00:58.833678\n",
      "Checkpoint saved at: ./checkpoints1/ckpt_epoch_7.h5\n",
      "Training Epoch 8\n",
      "Epoch 8, Loss: 0.634428083896637, Accuracy: 77.94200134277344, Test Loss: 0.6578871607780457, Test Accuracy: 77.76000213623047, Training Time: 0:00:58.828813\n",
      "Checkpoint saved at: ./checkpoints1/ckpt_epoch_8.h5\n",
      "Training Epoch 9\n",
      "Epoch 9, Loss: 0.5688221454620361, Accuracy: 80.4520034790039, Test Loss: 0.5920271873474121, Test Accuracy: 79.25, Training Time: 0:00:58.730904\n",
      "Checkpoint saved at: ./checkpoints1/ckpt_epoch_9.h5\n",
      "Training Epoch 10\n",
      "Epoch 10, Loss: 0.5169833302497864, Accuracy: 82.19000244140625, Test Loss: 0.5627009272575378, Test Accuracy: 80.73999786376953, Training Time: 0:00:58.804803\n",
      "Checkpoint saved at: ./checkpoints1/ckpt_epoch_10.h5\n",
      "Training Epoch 11\n",
      "Epoch 11, Loss: 0.47020423412323, Accuracy: 83.5719985961914, Test Loss: 0.5100234746932983, Test Accuracy: 82.7300033569336, Training Time: 0:00:58.829176\n",
      "Checkpoint saved at: ./checkpoints1/ckpt_epoch_11.h5\n",
      "Training Epoch 12\n",
      "Epoch 12, Loss: 0.4321307837963104, Accuracy: 84.8759994506836, Test Loss: 0.5548503398895264, Test Accuracy: 81.94000244140625, Training Time: 0:00:58.861943\n",
      "Checkpoint saved at: ./checkpoints1/ckpt_epoch_12.h5\n",
      "Training Epoch 13\n",
      "Epoch 13, Loss: 0.40031808614730835, Accuracy: 86.23399353027344, Test Loss: 0.49022176861763, Test Accuracy: 83.56000518798828, Training Time: 0:00:58.766294\n",
      "Checkpoint saved at: ./checkpoints1/ckpt_epoch_13.h5\n",
      "Training Epoch 14\n",
      "Epoch 14, Loss: 0.37082844972610474, Accuracy: 87.07600402832031, Test Loss: 0.5319527983665466, Test Accuracy: 83.11000061035156, Training Time: 0:00:58.783945\n",
      "Checkpoint saved at: ./checkpoints1/ckpt_epoch_14.h5\n",
      "Training Epoch 15\n",
      "Epoch 15, Loss: 0.3442198932170868, Accuracy: 87.98999786376953, Test Loss: 0.5132482647895813, Test Accuracy: 83.1300048828125, Training Time: 0:00:58.752542\n",
      "Checkpoint saved at: ./checkpoints1/ckpt_epoch_15.h5\n",
      "Training Epoch 16\n",
      "Epoch 16, Loss: 0.3212471604347229, Accuracy: 88.9260025024414, Test Loss: 0.46027272939682007, Test Accuracy: 84.94999694824219, Training Time: 0:00:58.870914\n",
      "Checkpoint saved at: ./checkpoints1/ckpt_epoch_16.h5\n",
      "Training Epoch 17\n",
      "Epoch 17, Loss: 0.3061150312423706, Accuracy: 89.15799713134766, Test Loss: 0.5202410817146301, Test Accuracy: 83.61000061035156, Training Time: 0:00:58.903901\n",
      "Checkpoint saved at: ./checkpoints1/ckpt_epoch_17.h5\n",
      "Training Epoch 18\n",
      "Epoch 18, Loss: 0.2831030786037445, Accuracy: 90.08399963378906, Test Loss: 0.47381162643432617, Test Accuracy: 85.3499984741211, Training Time: 0:00:58.734088\n",
      "Checkpoint saved at: ./checkpoints1/ckpt_epoch_18.h5\n",
      "Training Epoch 19\n",
      "Epoch 19, Loss: 0.26502329111099243, Accuracy: 90.7760009765625, Test Loss: 0.41804683208465576, Test Accuracy: 86.3699951171875, Training Time: 0:00:58.837236\n",
      "Checkpoint saved at: ./checkpoints1/ckpt_epoch_19.h5\n",
      "Training Epoch 20\n",
      "Epoch 20, Loss: 0.242102712392807, Accuracy: 91.50199890136719, Test Loss: 0.5402643084526062, Test Accuracy: 83.68000030517578, Training Time: 0:00:58.768404\n",
      "Checkpoint saved at: ./checkpoints1/ckpt_epoch_20.h5\n",
      "Training Epoch 21\n",
      "Epoch 21, Loss: 0.23701168596744537, Accuracy: 91.63400268554688, Test Loss: 0.4332710802555084, Test Accuracy: 86.4000015258789, Training Time: 0:00:58.765434\n",
      "Checkpoint saved at: ./checkpoints1/ckpt_epoch_21.h5\n",
      "Training Epoch 22\n",
      "Epoch 22, Loss: 0.22080405056476593, Accuracy: 92.3219985961914, Test Loss: 0.5198049545288086, Test Accuracy: 85.13999938964844, Training Time: 0:00:58.790040\n",
      "Checkpoint saved at: ./checkpoints1/ckpt_epoch_22.h5\n",
      "Training Epoch 23\n",
      "Epoch 23, Loss: 0.20661161839962006, Accuracy: 92.65399932861328, Test Loss: 0.40378710627555847, Test Accuracy: 87.2699966430664, Training Time: 0:00:58.853025\n",
      "Checkpoint saved at: ./checkpoints1/ckpt_epoch_23.h5\n",
      "Training Epoch 24\n",
      "Epoch 24, Loss: 0.19025442004203796, Accuracy: 93.2439956665039, Test Loss: 0.41265636682510376, Test Accuracy: 87.25, Training Time: 0:00:58.754754\n",
      "Checkpoint saved at: ./checkpoints1/ckpt_epoch_24.h5\n",
      "Training Epoch 25\n",
      "Epoch 25, Loss: 0.17815689742565155, Accuracy: 93.7239990234375, Test Loss: 0.4803098738193512, Test Accuracy: 86.20999908447266, Training Time: 0:00:58.831228\n",
      "Checkpoint saved at: ./checkpoints1/ckpt_epoch_25.h5\n",
      "Training Epoch 26\n",
      "Epoch 26, Loss: 0.167720764875412, Accuracy: 94.16400146484375, Test Loss: 0.4081220030784607, Test Accuracy: 88.22000122070312, Training Time: 0:00:58.814125\n",
      "Checkpoint saved at: ./checkpoints1/ckpt_epoch_26.h5\n",
      "Training Epoch 27\n",
      "Epoch 27, Loss: 0.15908853709697723, Accuracy: 94.39799499511719, Test Loss: 0.44667893648147583, Test Accuracy: 87.3499984741211, Training Time: 0:00:58.791000\n",
      "Checkpoint saved at: ./checkpoints1/ckpt_epoch_27.h5\n",
      "Training Epoch 28\n",
      "Epoch 28, Loss: 0.14834117889404297, Accuracy: 94.71199798583984, Test Loss: 0.4320681691169739, Test Accuracy: 87.62000274658203, Training Time: 0:00:58.814273\n",
      "Checkpoint saved at: ./checkpoints1/ckpt_epoch_28.h5\n",
      "Training Epoch 29\n",
      "Epoch 29, Loss: 0.1413992941379547, Accuracy: 95.10400390625, Test Loss: 0.3962115943431854, Test Accuracy: 88.83000183105469, Training Time: 0:00:58.789983\n",
      "Checkpoint saved at: ./checkpoints1/ckpt_epoch_29.h5\n",
      "Training Epoch 30\n",
      "Epoch 30, Loss: 0.13007426261901855, Accuracy: 95.49800109863281, Test Loss: 0.4595716893672943, Test Accuracy: 87.55000305175781, Training Time: 0:00:58.813841\n",
      "Checkpoint saved at: ./checkpoints1/ckpt_epoch_30.h5\n",
      "Training Epoch 31\n",
      "Epoch 31, Loss: 0.12838996946811676, Accuracy: 95.3759994506836, Test Loss: 0.42986321449279785, Test Accuracy: 88.45999908447266, Training Time: 0:00:58.746299\n",
      "Checkpoint saved at: ./checkpoints1/ckpt_epoch_31.h5\n",
      "Training Epoch 32\n",
      "Epoch 32, Loss: 0.11581845581531525, Accuracy: 95.90599822998047, Test Loss: 0.48118725419044495, Test Accuracy: 87.5199966430664, Training Time: 0:00:58.835623\n",
      "Checkpoint saved at: ./checkpoints1/ckpt_epoch_32.h5\n",
      "Training Epoch 33\n",
      "Epoch 33, Loss: 0.11069654673337936, Accuracy: 96.14199829101562, Test Loss: 0.4336386024951935, Test Accuracy: 88.52000427246094, Training Time: 0:00:58.784415\n",
      "Checkpoint saved at: ./checkpoints1/ckpt_epoch_33.h5\n",
      "Training Epoch 34\n",
      "Epoch 34, Loss: 0.09997449070215225, Accuracy: 96.42400360107422, Test Loss: 0.4457715153694153, Test Accuracy: 88.95999908447266, Training Time: 0:00:58.795715\n",
      "Checkpoint saved at: ./checkpoints1/ckpt_epoch_34.h5\n",
      "Training Epoch 35\n",
      "Epoch 35, Loss: 0.09727306663990021, Accuracy: 96.53800201416016, Test Loss: 0.4309319257736206, Test Accuracy: 88.84000396728516, Training Time: 0:00:58.755148\n",
      "Checkpoint saved at: ./checkpoints1/ckpt_epoch_35.h5\n",
      "Training Epoch 36\n",
      "Epoch 36, Loss: 0.08757729083299637, Accuracy: 96.96599578857422, Test Loss: 0.4743804931640625, Test Accuracy: 88.04000091552734, Training Time: 0:00:58.797816\n",
      "Checkpoint saved at: ./checkpoints1/ckpt_epoch_36.h5\n",
      "Training Epoch 37\n"
     ]
    },
    {
     "name": "stdout",
     "output_type": "stream",
     "text": [
      "Epoch 37, Loss: 0.08447953313589096, Accuracy: 96.98200225830078, Test Loss: 0.4645468294620514, Test Accuracy: 89.20000457763672, Training Time: 0:00:58.841239\n",
      "Checkpoint saved at: ./checkpoints1/ckpt_epoch_37.h5\n",
      "Training Epoch 38\n",
      "Epoch 38, Loss: 0.085748091340065, Accuracy: 96.93800354003906, Test Loss: 0.48411452770233154, Test Accuracy: 88.5, Training Time: 0:00:58.810697\n",
      "Checkpoint saved at: ./checkpoints1/ckpt_epoch_38.h5\n",
      "Training Epoch 39\n",
      "Epoch 39, Loss: 0.07480915635824203, Accuracy: 97.34600067138672, Test Loss: 0.4428410530090332, Test Accuracy: 89.27999877929688, Training Time: 0:00:58.849068\n",
      "Checkpoint saved at: ./checkpoints1/ckpt_epoch_39.h5\n",
      "Training Epoch 40\n",
      "Epoch 40, Loss: 0.07089778035879135, Accuracy: 97.55999755859375, Test Loss: 0.46736419200897217, Test Accuracy: 89.13999938964844, Training Time: 0:00:58.752263\n",
      "Checkpoint saved at: ./checkpoints1/ckpt_epoch_40.h5\n",
      "Training Epoch 41\n",
      "Epoch 41, Loss: 0.06685659289360046, Accuracy: 97.66400146484375, Test Loss: 0.4965108633041382, Test Accuracy: 88.4000015258789, Training Time: 0:00:58.849555\n",
      "Checkpoint saved at: ./checkpoints1/ckpt_epoch_41.h5\n",
      "Training Epoch 42\n",
      "Epoch 42, Loss: 0.06408308446407318, Accuracy: 97.74600219726562, Test Loss: 0.4815053939819336, Test Accuracy: 89.04000091552734, Training Time: 0:00:58.756476\n",
      "Checkpoint saved at: ./checkpoints1/ckpt_epoch_42.h5\n",
      "Training Epoch 43\n",
      "Epoch 43, Loss: 0.0583069808781147, Accuracy: 97.90399932861328, Test Loss: 0.531423032283783, Test Accuracy: 88.3499984741211, Training Time: 0:00:58.896002\n",
      "Checkpoint saved at: ./checkpoints1/ckpt_epoch_43.h5\n",
      "Training Epoch 44\n",
      "Epoch 44, Loss: 0.056631721556186676, Accuracy: 98.00399780273438, Test Loss: 0.587479829788208, Test Accuracy: 87.8499984741211, Training Time: 0:00:58.797518\n",
      "Checkpoint saved at: ./checkpoints1/ckpt_epoch_44.h5\n",
      "Training Epoch 45\n",
      "Epoch 45, Loss: 0.057188503444194794, Accuracy: 98.09600067138672, Test Loss: 0.47451066970825195, Test Accuracy: 89.36000061035156, Training Time: 0:00:58.874619\n",
      "Checkpoint saved at: ./checkpoints1/ckpt_epoch_45.h5\n",
      "Training Epoch 46\n",
      "Epoch 46, Loss: 0.04921390116214752, Accuracy: 98.25199890136719, Test Loss: 0.46946147084236145, Test Accuracy: 89.44000244140625, Training Time: 0:00:58.757100\n",
      "Checkpoint saved at: ./checkpoints1/ckpt_epoch_46.h5\n",
      "Training Epoch 47\n",
      "Epoch 47, Loss: 0.0465630404651165, Accuracy: 98.35199737548828, Test Loss: 0.5439512729644775, Test Accuracy: 88.6300048828125, Training Time: 0:00:58.848223\n",
      "Checkpoint saved at: ./checkpoints1/ckpt_epoch_47.h5\n",
      "Training Epoch 48\n",
      "Epoch 48, Loss: 0.04226364195346832, Accuracy: 98.55999755859375, Test Loss: 0.4890282154083252, Test Accuracy: 89.5, Training Time: 0:00:58.849768\n",
      "Checkpoint saved at: ./checkpoints1/ckpt_epoch_48.h5\n",
      "Training Epoch 49\n",
      "Epoch 49, Loss: 0.04225659370422363, Accuracy: 98.46800231933594, Test Loss: 0.474956750869751, Test Accuracy: 89.87000274658203, Training Time: 0:00:58.816852\n",
      "Checkpoint saved at: ./checkpoints1/ckpt_epoch_49.h5\n",
      "Training Epoch 50\n",
      "Epoch 50, Loss: 0.03957551717758179, Accuracy: 98.593994140625, Test Loss: 0.5054976940155029, Test Accuracy: 89.52999877929688, Training Time: 0:00:58.856761\n",
      "Checkpoint saved at: ./checkpoints1/ckpt_epoch_50.h5\n",
      "Training Epoch 51\n",
      "Epoch 51, Loss: 0.03430617228150368, Accuracy: 98.80999755859375, Test Loss: 0.49024635553359985, Test Accuracy: 90.06000518798828, Training Time: 0:00:58.774067\n",
      "Checkpoint saved at: ./checkpoints1/ckpt_epoch_51.h5\n",
      "Training Epoch 52\n",
      "Epoch 52, Loss: 0.03400205075740814, Accuracy: 98.81600189208984, Test Loss: 0.5062849521636963, Test Accuracy: 89.9800033569336, Training Time: 0:00:58.883322\n",
      "Checkpoint saved at: ./checkpoints1/ckpt_epoch_52.h5\n",
      "Training Epoch 53\n",
      "Epoch 53, Loss: 0.03561669588088989, Accuracy: 98.73999786376953, Test Loss: 0.5056434869766235, Test Accuracy: 90.02999877929688, Training Time: 0:00:58.779933\n",
      "Checkpoint saved at: ./checkpoints1/ckpt_epoch_53.h5\n",
      "Training Epoch 54\n",
      "Epoch 54, Loss: 0.03381429985165596, Accuracy: 98.83000183105469, Test Loss: 0.5300067663192749, Test Accuracy: 89.83000183105469, Training Time: 0:00:58.725263\n",
      "Checkpoint saved at: ./checkpoints1/ckpt_epoch_54.h5\n",
      "Training Epoch 55\n",
      "Epoch 55, Loss: 0.03063221462070942, Accuracy: 98.94000244140625, Test Loss: 0.533162534236908, Test Accuracy: 89.55000305175781, Training Time: 0:00:58.604704\n",
      "Checkpoint saved at: ./checkpoints1/ckpt_epoch_55.h5\n",
      "Training Epoch 56\n",
      "Epoch 56, Loss: 0.028643794357776642, Accuracy: 99.00399780273438, Test Loss: 0.507572591304779, Test Accuracy: 90.1500015258789, Training Time: 0:00:58.617484\n",
      "Checkpoint saved at: ./checkpoints1/ckpt_epoch_56.h5\n",
      "Training Epoch 57\n",
      "Epoch 57, Loss: 0.02646499313414097, Accuracy: 99.0719985961914, Test Loss: 0.5285238027572632, Test Accuracy: 89.75, Training Time: 0:00:58.548814\n",
      "Checkpoint saved at: ./checkpoints1/ckpt_epoch_57.h5\n",
      "Training Epoch 58\n",
      "Epoch 58, Loss: 0.02598915621638298, Accuracy: 99.10600280761719, Test Loss: 0.5385521054267883, Test Accuracy: 89.55000305175781, Training Time: 0:00:58.567246\n",
      "Checkpoint saved at: ./checkpoints1/ckpt_epoch_58.h5\n",
      "Training Epoch 59\n",
      "Epoch 59, Loss: 0.02452034316956997, Accuracy: 99.1520004272461, Test Loss: 0.5225939154624939, Test Accuracy: 89.79000091552734, Training Time: 0:00:58.725138\n",
      "Checkpoint saved at: ./checkpoints1/ckpt_epoch_59.h5\n",
      "Training Epoch 60\n",
      "Epoch 60, Loss: 0.025615401566028595, Accuracy: 99.11599731445312, Test Loss: 0.5536270141601562, Test Accuracy: 89.44000244140625, Training Time: 0:00:58.641910\n",
      "Checkpoint saved at: ./checkpoints1/ckpt_epoch_60.h5\n",
      "Total Training Time: 0:58:58.258565\n"
     ]
    }
   ],
   "source": [
    "trainer.run()"
   ]
  },
  {
   "cell_type": "code",
   "execution_count": 6,
   "metadata": {},
   "outputs": [
    {
     "name": "stdout",
     "output_type": "stream",
     "text": [
      "Restored from checkpoint: ./checkpoints1/ckpt_epoch_60.ckpt\n",
      "Restored from epoch 60: \n",
      "Training Epoch 61\n",
      "Epoch 61, Loss: 0.44261810183525085, Accuracy: 85.08399963378906, Test Loss: 0.5024479031562805, Test Accuracy: 83.81000518798828, Training Time: 0:01:04.152498\n",
      "Checkpoint saved at: ./checkpoints1/ckpt_epoch_61.h5\n",
      "Training Epoch 62\n",
      "Epoch 62, Loss: 0.284915030002594, Accuracy: 90.02799987792969, Test Loss: 0.45613089203834534, Test Accuracy: 85.25999450683594, Training Time: 0:00:58.576929\n",
      "Checkpoint saved at: ./checkpoints1/ckpt_epoch_62.h5\n",
      "Training Epoch 63\n",
      "Epoch 63, Loss: 0.22565360367298126, Accuracy: 92.03199768066406, Test Loss: 0.45200785994529724, Test Accuracy: 85.86000061035156, Training Time: 0:00:58.789581\n",
      "Checkpoint saved at: ./checkpoints1/ckpt_epoch_63.h5\n",
      "Training Epoch 64\n",
      "Epoch 64, Loss: 0.18694275617599487, Accuracy: 93.43399810791016, Test Loss: 0.45817068219184875, Test Accuracy: 86.41999816894531, Training Time: 0:00:58.659695\n",
      "Checkpoint saved at: ./checkpoints1/ckpt_epoch_64.h5\n",
      "Training Epoch 65\n",
      "Epoch 65, Loss: 0.15653583407402039, Accuracy: 94.56600189208984, Test Loss: 0.4101601541042328, Test Accuracy: 88.52999877929688, Training Time: 0:00:58.786128\n",
      "Checkpoint saved at: ./checkpoints1/ckpt_epoch_65.h5\n",
      "Training Epoch 66\n",
      "Epoch 66, Loss: 0.1337880939245224, Accuracy: 95.39199829101562, Test Loss: 0.4227312207221985, Test Accuracy: 88.4800033569336, Training Time: 0:00:58.673923\n",
      "Checkpoint saved at: ./checkpoints1/ckpt_epoch_66.h5\n",
      "Training Epoch 67\n",
      "Epoch 67, Loss: 0.11425498127937317, Accuracy: 95.99199676513672, Test Loss: 0.4422767162322998, Test Accuracy: 88.88999938964844, Training Time: 0:00:58.607727\n",
      "Checkpoint saved at: ./checkpoints1/ckpt_epoch_67.h5\n",
      "Training Epoch 68\n",
      "Epoch 68, Loss: 0.09787888824939728, Accuracy: 96.52000427246094, Test Loss: 0.4455404281616211, Test Accuracy: 89.05000305175781, Training Time: 0:00:58.690622\n",
      "Checkpoint saved at: ./checkpoints1/ckpt_epoch_68.h5\n",
      "Training Epoch 69\n",
      "Epoch 69, Loss: 0.0858534425497055, Accuracy: 96.93400573730469, Test Loss: 0.4120935797691345, Test Accuracy: 89.43000030517578, Training Time: 0:00:58.699170\n",
      "Checkpoint saved at: ./checkpoints1/ckpt_epoch_69.h5\n",
      "Training Epoch 70\n",
      "Epoch 70, Loss: 0.07445485144853592, Accuracy: 97.30999755859375, Test Loss: 0.4803447425365448, Test Accuracy: 88.66999816894531, Training Time: 0:00:58.716240\n",
      "Checkpoint saved at: ./checkpoints1/ckpt_epoch_70.h5\n",
      "Training Epoch 71\n",
      "Epoch 71, Loss: 0.06446125358343124, Accuracy: 97.69400024414062, Test Loss: 0.4300689697265625, Test Accuracy: 89.85000610351562, Training Time: 0:00:58.724470\n",
      "Checkpoint saved at: ./checkpoints1/ckpt_epoch_71.h5\n",
      "Training Epoch 72\n",
      "Epoch 72, Loss: 0.05610185116529465, Accuracy: 98.03399658203125, Test Loss: 0.446320503950119, Test Accuracy: 90.16000366210938, Training Time: 0:00:58.695302\n",
      "Checkpoint saved at: ./checkpoints1/ckpt_epoch_72.h5\n",
      "Training Epoch 73\n",
      "Epoch 73, Loss: 0.05312219634652138, Accuracy: 98.14199829101562, Test Loss: 0.43759045004844666, Test Accuracy: 89.70000457763672, Training Time: 0:00:58.643530\n",
      "Checkpoint saved at: ./checkpoints1/ckpt_epoch_73.h5\n",
      "Training Epoch 74\n",
      "Epoch 74, Loss: 0.04550042748451233, Accuracy: 98.36199951171875, Test Loss: 0.4720659852027893, Test Accuracy: 90.30000305175781, Training Time: 0:00:58.635749\n",
      "Checkpoint saved at: ./checkpoints1/ckpt_epoch_74.h5\n",
      "Training Epoch 75\n",
      "Epoch 75, Loss: 0.03972090780735016, Accuracy: 98.61399841308594, Test Loss: 0.4584595263004303, Test Accuracy: 90.24000549316406, Training Time: 0:00:58.655705\n",
      "Checkpoint saved at: ./checkpoints1/ckpt_epoch_75.h5\n",
      "Training Epoch 76\n",
      "Epoch 76, Loss: 0.03386959061026573, Accuracy: 98.80799865722656, Test Loss: 0.45231401920318604, Test Accuracy: 90.94999694824219, Training Time: 0:00:58.734452\n",
      "Checkpoint saved at: ./checkpoints1/ckpt_epoch_76.h5\n",
      "Training Epoch 77\n",
      "Epoch 77, Loss: 0.029976867139339447, Accuracy: 98.92399597167969, Test Loss: 0.46194854378700256, Test Accuracy: 90.52000427246094, Training Time: 0:00:58.928977\n",
      "Checkpoint saved at: ./checkpoints1/ckpt_epoch_77.h5\n",
      "Training Epoch 78\n",
      "Epoch 78, Loss: 0.029416523873806, Accuracy: 98.95399475097656, Test Loss: 0.46496665477752686, Test Accuracy: 90.9000015258789, Training Time: 0:00:58.814072\n",
      "Checkpoint saved at: ./checkpoints1/ckpt_epoch_78.h5\n",
      "Training Epoch 79\n",
      "Epoch 79, Loss: 0.02656514197587967, Accuracy: 99.04999542236328, Test Loss: 0.49886104464530945, Test Accuracy: 90.56999969482422, Training Time: 0:00:58.842171\n",
      "Checkpoint saved at: ./checkpoints1/ckpt_epoch_79.h5\n",
      "Training Epoch 80\n",
      "Epoch 80, Loss: 0.023523414507508278, Accuracy: 99.15999603271484, Test Loss: 0.4917081892490387, Test Accuracy: 90.6500015258789, Training Time: 0:00:58.828151\n",
      "Checkpoint saved at: ./checkpoints1/ckpt_epoch_80.h5\n",
      "Training Epoch 81\n",
      "Epoch 81, Loss: 0.021447770297527313, Accuracy: 99.33000183105469, Test Loss: 0.47479304671287537, Test Accuracy: 90.88999938964844, Training Time: 0:00:58.909846\n",
      "Checkpoint saved at: ./checkpoints1/ckpt_epoch_81.h5\n",
      "Training Epoch 82\n",
      "Epoch 82, Loss: 0.01781657338142395, Accuracy: 99.38600158691406, Test Loss: 0.46671468019485474, Test Accuracy: 90.97000122070312, Training Time: 0:00:58.790419\n",
      "Checkpoint saved at: ./checkpoints1/ckpt_epoch_82.h5\n",
      "Training Epoch 83\n",
      "Epoch 83, Loss: 0.018823739141225815, Accuracy: 99.33399963378906, Test Loss: 0.48020514845848083, Test Accuracy: 91.13999938964844, Training Time: 0:00:58.907298\n",
      "Checkpoint saved at: ./checkpoints1/ckpt_epoch_83.h5\n",
      "Training Epoch 84\n",
      "Epoch 84, Loss: 0.01827874965965748, Accuracy: 99.39399719238281, Test Loss: 0.47666433453559875, Test Accuracy: 91.11000061035156, Training Time: 0:00:58.822582\n",
      "Checkpoint saved at: ./checkpoints1/ckpt_epoch_84.h5\n",
      "Training Epoch 85\n",
      "Epoch 85, Loss: 0.014237836003303528, Accuracy: 99.53800201416016, Test Loss: 0.4796771705150604, Test Accuracy: 91.0199966430664, Training Time: 0:00:58.853227\n",
      "Checkpoint saved at: ./checkpoints1/ckpt_epoch_85.h5\n",
      "Training Epoch 86\n",
      "Epoch 86, Loss: 0.01370419654995203, Accuracy: 99.53800201416016, Test Loss: 0.48073336482048035, Test Accuracy: 91.37999725341797, Training Time: 0:00:58.912138\n",
      "Checkpoint saved at: ./checkpoints1/ckpt_epoch_86.h5\n",
      "Training Epoch 87\n",
      "Epoch 87, Loss: 0.01264814380556345, Accuracy: 99.58599853515625, Test Loss: 0.4921509325504303, Test Accuracy: 91.2699966430664, Training Time: 0:00:58.796820\n",
      "Checkpoint saved at: ./checkpoints1/ckpt_epoch_87.h5\n",
      "Training Epoch 88\n",
      "Epoch 88, Loss: 0.0124433608725667, Accuracy: 99.5979995727539, Test Loss: 0.47680190205574036, Test Accuracy: 91.36000061035156, Training Time: 0:00:58.742988\n",
      "Checkpoint saved at: ./checkpoints1/ckpt_epoch_88.h5\n",
      "Training Epoch 89\n",
      "Epoch 89, Loss: 0.010812015272676945, Accuracy: 99.60600280761719, Test Loss: 0.4725261628627777, Test Accuracy: 91.55999755859375, Training Time: 0:00:58.792159\n",
      "Checkpoint saved at: ./checkpoints1/ckpt_epoch_89.h5\n",
      "Training Epoch 90\n",
      "Epoch 90, Loss: 0.009405183605849743, Accuracy: 99.68799591064453, Test Loss: 0.4823245704174042, Test Accuracy: 91.43000030517578, Training Time: 0:00:58.836528\n",
      "Checkpoint saved at: ./checkpoints1/ckpt_epoch_90.h5\n",
      "Training Epoch 91\n",
      "Epoch 91, Loss: 0.009896066971123219, Accuracy: 99.6760025024414, Test Loss: 0.49253571033477783, Test Accuracy: 91.54999542236328, Training Time: 0:00:58.773667\n",
      "Checkpoint saved at: ./checkpoints1/ckpt_epoch_91.h5\n",
      "Training Epoch 92\n",
      "Epoch 92, Loss: 0.007911178283393383, Accuracy: 99.73400115966797, Test Loss: 0.48932039737701416, Test Accuracy: 91.68000030517578, Training Time: 0:00:58.727311\n",
      "Checkpoint saved at: ./checkpoints1/ckpt_epoch_92.h5\n",
      "Training Epoch 93\n",
      "Epoch 93, Loss: 0.00671873614192009, Accuracy: 99.80999755859375, Test Loss: 0.48663944005966187, Test Accuracy: 91.75999450683594, Training Time: 0:00:58.674427\n",
      "Checkpoint saved at: ./checkpoints1/ckpt_epoch_93.h5\n",
      "Training Epoch 94\n",
      "Epoch 94, Loss: 0.006165382452309132, Accuracy: 99.81200408935547, Test Loss: 0.4833759367465973, Test Accuracy: 91.87999725341797, Training Time: 0:00:58.727237\n",
      "Checkpoint saved at: ./checkpoints1/ckpt_epoch_94.h5\n",
      "Training Epoch 95\n",
      "Epoch 95, Loss: 0.006577406544238329, Accuracy: 99.80000305175781, Test Loss: 0.47868964076042175, Test Accuracy: 91.97000122070312, Training Time: 0:00:58.616034\n",
      "Checkpoint saved at: ./checkpoints1/ckpt_epoch_95.h5\n",
      "Training Epoch 96\n"
     ]
    },
    {
     "name": "stdout",
     "output_type": "stream",
     "text": [
      "Epoch 96, Loss: 0.005977038759738207, Accuracy: 99.80599975585938, Test Loss: 0.48064345121383667, Test Accuracy: 91.97000122070312, Training Time: 0:00:58.738800\n",
      "Checkpoint saved at: ./checkpoints1/ckpt_epoch_96.h5\n",
      "Training Epoch 97\n",
      "Epoch 97, Loss: 0.0054877991788089275, Accuracy: 99.84200286865234, Test Loss: 0.4786224365234375, Test Accuracy: 92.04999542236328, Training Time: 0:00:58.732211\n",
      "Checkpoint saved at: ./checkpoints1/ckpt_epoch_97.h5\n",
      "Training Epoch 98\n",
      "Epoch 98, Loss: 0.004552710335701704, Accuracy: 99.85200500488281, Test Loss: 0.47787055373191833, Test Accuracy: 92.00999450683594, Training Time: 0:00:58.696687\n",
      "Checkpoint saved at: ./checkpoints1/ckpt_epoch_98.h5\n",
      "Training Epoch 99\n",
      "Epoch 99, Loss: 0.0047952476888895035, Accuracy: 99.85800170898438, Test Loss: 0.48043131828308105, Test Accuracy: 92.05999755859375, Training Time: 0:00:58.681449\n",
      "Checkpoint saved at: ./checkpoints1/ckpt_epoch_99.h5\n",
      "Training Epoch 100\n",
      "Epoch 100, Loss: 0.004687654320150614, Accuracy: 99.85200500488281, Test Loss: 0.4786437451839447, Test Accuracy: 92.04999542236328, Training Time: 0:00:58.673687\n",
      "Checkpoint saved at: ./checkpoints1/ckpt_epoch_100.h5\n",
      "Total Training Time: 0:39:20.667908\n"
     ]
    }
   ],
   "source": [
    "trainer.run()"
   ]
  },
  {
   "cell_type": "code",
   "execution_count": 7,
   "metadata": {
    "id": "fArqxHakePav",
    "scrolled": true
   },
   "outputs": [
    {
     "name": "stdout",
     "output_type": "stream",
     "text": [
      "WARNING:tensorflow:Skipping full serialization of Keras layer <tensorflow.python.keras.layers.normalization_v2.BatchNormalization object at 0x7fc0f85082e8>, because it is not built.\n",
      "WARNING:tensorflow:Skipping full serialization of Keras layer <tensorflow.python.keras.layers.advanced_activations.ReLU object at 0x7fc0f8508630>, because it is not built.\n",
      "INFO:tensorflow:Assets written to: ./saved_model1/assets\n",
      "Model saved.\n"
     ]
    }
   ],
   "source": [
    "trainer.model.save(model_path)\n",
    "print(\"Model saved.\")"
   ]
  },
  {
   "cell_type": "code",
   "execution_count": 11,
   "metadata": {},
   "outputs": [
    {
     "data": {
      "image/png": "[encoded data removed]",
      "text/plain": [
       "<Figure size 576x360 with 1 Axes>"
      ]
     },
     "metadata": {
      "needs_background": "light"
     },
     "output_type": "display_data"
    }
   ],
   "source": [
    "plt.figure(figsize=(8, 5))\n",
    "plt.plot(range(60, 60 + len(trainer.train_loss_history)), trainer.train_loss_history, label='Training Loss')\n",
    "plt.plot(range(60, 60 + len(trainer.test_loss_history)), trainer.test_loss_history, label='Validation Loss')\n",
    "plt.title('Training and Validation Loss')\n",
    "plt.xlabel('Epochs')\n",
    "plt.ylabel('Loss')\n",
    "plt.legend()\n",
    "plt.xticks(range(60, 60 + len(trainer.train_loss_history), 5))\n",
    "plt.show()\n"
   ]
  },
  {
   "cell_type": "code",
   "execution_count": 12,
   "metadata": {},
   "outputs": [
    {
     "data": {
      "image/png": "[encoded data removed]",
      "text/plain": [
       "<Figure size 576x360 with 1 Axes>"
      ]
     },
     "metadata": {
      "needs_background": "light"
     },
     "output_type": "display_data"
    }
   ],
   "source": [
    "plt.figure(figsize=(8, 5))\n",
    "plt.plot(range(60, 60 + len(trainer.train_accuracy_history)), trainer.train_accuracy_history, label='Training Accuracy')\n",
    "plt.plot(range(60, 60 + len(trainer.test_accuracy_history)), trainer.test_accuracy_history, label='Validation Accuracy')\n",
    "plt.title('Training and Validation Accuracy')\n",
    "plt.xlabel('Epochs')\n",
    "plt.ylabel('Accuracy')\n",
    "plt.legend()\n",
    "plt.xticks(range(60, 60 + len(trainer.train_accuracy_history), 5))  # 每5个epoch一个刻度，可以根据需要调整\n",
    "plt.show()"
   ]
  },
  {
   "cell_type": "code",
   "execution_count": 15,
   "metadata": {},
   "outputs": [
    {
     "name": "stdout",
     "output_type": "stream",
     "text": [
      "Restored from checkpoint: ./checkpoints1/ckpt_epoch_100.ckpt\n",
      "Restored from epoch 100: \n",
      "Training Epoch 101\n",
      "Epoch 101, Loss: 0.005340726114809513, Accuracy: 99.8239974975586, Test Loss: 0.4893819987773895, Test Accuracy: 91.8699951171875, Training Time: 0:00:58.715466\n",
      "Checkpoint saved at: ./checkpoints1/ckpt_epoch_101.h5\n",
      "Training Epoch 102\n",
      "Epoch 102, Loss: 0.0058425068855285645, Accuracy: 99.83799743652344, Test Loss: 0.491951048374176, Test Accuracy: 91.82999420166016, Training Time: 0:00:58.632257\n",
      "Checkpoint saved at: ./checkpoints1/ckpt_epoch_102.h5\n",
      "Training Epoch 103\n",
      "Epoch 103, Loss: 0.004840197041630745, Accuracy: 99.86799621582031, Test Loss: 0.4882814884185791, Test Accuracy: 91.73999786376953, Training Time: 0:00:58.703623\n",
      "Checkpoint saved at: ./checkpoints1/ckpt_epoch_103.h5\n",
      "Training Epoch 104\n",
      "Epoch 104, Loss: 0.00479491101577878, Accuracy: 99.86799621582031, Test Loss: 0.4824374318122864, Test Accuracy: 92.0199966430664, Training Time: 0:00:58.738997\n",
      "Checkpoint saved at: ./checkpoints1/ckpt_epoch_104.h5\n",
      "Training Epoch 105\n",
      "Epoch 105, Loss: 0.004988410510122776, Accuracy: 99.85800170898438, Test Loss: 0.4864797592163086, Test Accuracy: 91.97999572753906, Training Time: 0:00:58.658859\n",
      "Checkpoint saved at: ./checkpoints1/ckpt_epoch_105.h5\n",
      "Training Epoch 106\n",
      "Epoch 106, Loss: 0.004625682719051838, Accuracy: 99.86799621582031, Test Loss: 0.4816734790802002, Test Accuracy: 92.23999786376953, Training Time: 0:00:58.872074\n",
      "Checkpoint saved at: ./checkpoints1/ckpt_epoch_106.h5\n",
      "Training Epoch 107\n",
      "Epoch 107, Loss: 0.0042026755400002, Accuracy: 99.87200164794922, Test Loss: 0.4853433072566986, Test Accuracy: 92.20999908447266, Training Time: 0:00:58.753020\n",
      "Checkpoint saved at: ./checkpoints1/ckpt_epoch_107.h5\n",
      "Training Epoch 108\n",
      "Epoch 108, Loss: 0.003774144221097231, Accuracy: 99.88399505615234, Test Loss: 0.48738759756088257, Test Accuracy: 92.0199966430664, Training Time: 0:00:58.831303\n",
      "Checkpoint saved at: ./checkpoints1/ckpt_epoch_108.h5\n",
      "Training Epoch 109\n",
      "Epoch 109, Loss: 0.0035303644835948944, Accuracy: 99.91799926757812, Test Loss: 0.4893151819705963, Test Accuracy: 91.98999786376953, Training Time: 0:00:58.721516\n",
      "Checkpoint saved at: ./checkpoints1/ckpt_epoch_109.h5\n",
      "Training Epoch 110\n",
      "Epoch 110, Loss: 0.0036494836676865816, Accuracy: 99.87999725341797, Test Loss: 0.4861437976360321, Test Accuracy: 92.07999420166016, Training Time: 0:00:58.879922\n",
      "Checkpoint saved at: ./checkpoints1/ckpt_epoch_110.h5\n",
      "Training Epoch 111\n",
      "Epoch 111, Loss: 0.0037185456603765488, Accuracy: 99.88600158691406, Test Loss: 0.4863992929458618, Test Accuracy: 92.13999938964844, Training Time: 0:00:58.973230\n",
      "Checkpoint saved at: ./checkpoints1/ckpt_epoch_111.h5\n",
      "Training Epoch 112\n",
      "Epoch 112, Loss: 0.004032147116959095, Accuracy: 99.86199951171875, Test Loss: 0.4876047968864441, Test Accuracy: 92.1500015258789, Training Time: 0:00:58.794466\n",
      "Checkpoint saved at: ./checkpoints1/ckpt_epoch_112.h5\n",
      "Training Epoch 113\n",
      "Epoch 113, Loss: 0.00317518413066864, Accuracy: 99.91200256347656, Test Loss: 0.48498743772506714, Test Accuracy: 92.19999694824219, Training Time: 0:00:58.934793\n",
      "Checkpoint saved at: ./checkpoints1/ckpt_epoch_113.h5\n",
      "Training Epoch 114\n",
      "Epoch 114, Loss: 0.002968346932902932, Accuracy: 99.91400146484375, Test Loss: 0.4898231625556946, Test Accuracy: 92.15999603271484, Training Time: 0:00:58.831640\n",
      "Checkpoint saved at: ./checkpoints1/ckpt_epoch_114.h5\n",
      "Training Epoch 115\n",
      "Epoch 115, Loss: 0.00362225784920156, Accuracy: 99.88800048828125, Test Loss: 0.4912247359752655, Test Accuracy: 92.1199951171875, Training Time: 0:00:58.887076\n",
      "Checkpoint saved at: ./checkpoints1/ckpt_epoch_115.h5\n",
      "Training Epoch 116\n",
      "Epoch 116, Loss: 0.0029667834751307964, Accuracy: 99.91600036621094, Test Loss: 0.4933314323425293, Test Accuracy: 92.06999969482422, Training Time: 0:00:58.820262\n",
      "Checkpoint saved at: ./checkpoints1/ckpt_epoch_116.h5\n",
      "Training Epoch 117\n",
      "Epoch 117, Loss: 0.002835047896951437, Accuracy: 99.93000030517578, Test Loss: 0.49600544571876526, Test Accuracy: 92.18999481201172, Training Time: 0:00:58.858292\n",
      "Checkpoint saved at: ./checkpoints1/ckpt_epoch_117.h5\n",
      "Training Epoch 118\n",
      "Epoch 118, Loss: 0.0026035397313535213, Accuracy: 99.93600463867188, Test Loss: 0.4967852234840393, Test Accuracy: 92.16999816894531, Training Time: 0:00:58.885487\n",
      "Checkpoint saved at: ./checkpoints1/ckpt_epoch_118.h5\n",
      "Training Epoch 119\n",
      "Epoch 119, Loss: 0.002949134446680546, Accuracy: 99.91200256347656, Test Loss: 0.49870845675468445, Test Accuracy: 92.12999725341797, Training Time: 0:00:58.948690\n",
      "Checkpoint saved at: ./checkpoints1/ckpt_epoch_119.h5\n",
      "Training Epoch 120\n",
      "Epoch 120, Loss: 0.003004299011081457, Accuracy: 99.90599822998047, Test Loss: 0.4992982745170593, Test Accuracy: 92.07999420166016, Training Time: 0:00:58.865251\n",
      "Checkpoint saved at: ./checkpoints1/ckpt_epoch_120.h5\n",
      "Training Epoch 121\n",
      "Epoch 121, Loss: 0.002681153127923608, Accuracy: 99.93399810791016, Test Loss: 0.4972889721393585, Test Accuracy: 92.0999984741211, Training Time: 0:00:58.841015\n",
      "Checkpoint saved at: ./checkpoints1/ckpt_epoch_121.h5\n",
      "Training Epoch 122\n",
      "Epoch 122, Loss: 0.003013118403032422, Accuracy: 99.90799713134766, Test Loss: 0.49638453125953674, Test Accuracy: 92.13999938964844, Training Time: 0:00:58.897162\n",
      "Checkpoint saved at: ./checkpoints1/ckpt_epoch_122.h5\n",
      "Training Epoch 123\n",
      "Epoch 123, Loss: 0.002536279847845435, Accuracy: 99.93000030517578, Test Loss: 0.4969651997089386, Test Accuracy: 92.20999908447266, Training Time: 0:00:58.735423\n",
      "Checkpoint saved at: ./checkpoints1/ckpt_epoch_123.h5\n",
      "Training Epoch 124\n",
      "Epoch 124, Loss: 0.0025393699761480093, Accuracy: 99.93600463867188, Test Loss: 0.4974050521850586, Test Accuracy: 92.13999938964844, Training Time: 0:00:58.932439\n",
      "Checkpoint saved at: ./checkpoints1/ckpt_epoch_124.h5\n",
      "Training Epoch 125\n",
      "Epoch 125, Loss: 0.002639628015458584, Accuracy: 99.93600463867188, Test Loss: 0.49642303586006165, Test Accuracy: 92.1500015258789, Training Time: 0:00:58.792386\n",
      "Checkpoint saved at: ./checkpoints1/ckpt_epoch_125.h5\n",
      "Training Epoch 126\n",
      "Epoch 126, Loss: 0.002492680447176099, Accuracy: 99.92799377441406, Test Loss: 0.49646613001823425, Test Accuracy: 92.16999816894531, Training Time: 0:00:58.880170\n",
      "Checkpoint saved at: ./checkpoints1/ckpt_epoch_126.h5\n",
      "Training Epoch 127\n",
      "Epoch 127, Loss: 0.003046521218493581, Accuracy: 99.9260025024414, Test Loss: 0.4967804551124573, Test Accuracy: 92.1500015258789, Training Time: 0:00:58.824662\n",
      "Checkpoint saved at: ./checkpoints1/ckpt_epoch_127.h5\n",
      "Training Epoch 128\n",
      "Epoch 128, Loss: 0.002987815300002694, Accuracy: 99.91600036621094, Test Loss: 0.49818849563598633, Test Accuracy: 92.11000061035156, Training Time: 0:00:58.891806\n",
      "Checkpoint saved at: ./checkpoints1/ckpt_epoch_128.h5\n",
      "Training Epoch 129\n",
      "Epoch 129, Loss: 0.002986244624480605, Accuracy: 99.90399932861328, Test Loss: 0.49618250131607056, Test Accuracy: 92.15999603271484, Training Time: 0:00:58.850313\n",
      "Checkpoint saved at: ./checkpoints1/ckpt_epoch_129.h5\n",
      "Training Epoch 130\n",
      "Epoch 130, Loss: 0.0028552012518048286, Accuracy: 99.92799377441406, Test Loss: 0.49619051814079285, Test Accuracy: 92.18000030517578, Training Time: 0:00:58.929793\n",
      "Checkpoint saved at: ./checkpoints1/ckpt_epoch_130.h5\n",
      "Training Epoch 131\n",
      "Epoch 131, Loss: 0.002763887867331505, Accuracy: 99.92799377441406, Test Loss: 0.49664127826690674, Test Accuracy: 92.20999908447266, Training Time: 0:00:58.891765\n",
      "Checkpoint saved at: ./checkpoints1/ckpt_epoch_131.h5\n",
      "Training Epoch 132\n",
      "Epoch 132, Loss: 0.002787417732179165, Accuracy: 99.91200256347656, Test Loss: 0.4966531991958618, Test Accuracy: 92.16999816894531, Training Time: 0:00:58.914810\n",
      "Checkpoint saved at: ./checkpoints1/ckpt_epoch_132.h5\n",
      "Training Epoch 133\n",
      "Epoch 133, Loss: 0.0023119081743061543, Accuracy: 99.94400024414062, Test Loss: 0.49632528424263, Test Accuracy: 92.22999572753906, Training Time: 0:00:58.925218\n",
      "Checkpoint saved at: ./checkpoints1/ckpt_epoch_133.h5\n",
      "Training Epoch 134\n",
      "Epoch 134, Loss: 0.0023627702612429857, Accuracy: 99.94000244140625, Test Loss: 0.4965803325176239, Test Accuracy: 92.18000030517578, Training Time: 0:00:58.869675\n",
      "Checkpoint saved at: ./checkpoints1/ckpt_epoch_134.h5\n",
      "Training Epoch 135\n",
      "Epoch 135, Loss: 0.002346522407606244, Accuracy: 99.947998046875, Test Loss: 0.49499791860580444, Test Accuracy: 92.22999572753906, Training Time: 0:00:58.930360\n",
      "Checkpoint saved at: ./checkpoints1/ckpt_epoch_135.h5\n",
      "Training Epoch 136\n"
     ]
    },
    {
     "name": "stdout",
     "output_type": "stream",
     "text": [
      "Epoch 136, Loss: 0.0031460023019462824, Accuracy: 99.91600036621094, Test Loss: 0.49555113911628723, Test Accuracy: 92.20999908447266, Training Time: 0:00:58.902688\n",
      "Checkpoint saved at: ./checkpoints1/ckpt_epoch_136.h5\n",
      "Training Epoch 137\n",
      "Epoch 137, Loss: 0.0026529368478804827, Accuracy: 99.9260025024414, Test Loss: 0.4950634837150574, Test Accuracy: 92.23999786376953, Training Time: 0:00:58.960402\n",
      "Checkpoint saved at: ./checkpoints1/ckpt_epoch_137.h5\n",
      "Training Epoch 138\n",
      "Epoch 138, Loss: 0.0025091252755373716, Accuracy: 99.93000030517578, Test Loss: 0.4960770905017853, Test Accuracy: 92.22000122070312, Training Time: 0:00:58.780115\n",
      "Checkpoint saved at: ./checkpoints1/ckpt_epoch_138.h5\n",
      "Training Epoch 139\n",
      "Epoch 139, Loss: 0.002349924063310027, Accuracy: 99.94999694824219, Test Loss: 0.4971337616443634, Test Accuracy: 92.18000030517578, Training Time: 0:00:58.912651\n",
      "Checkpoint saved at: ./checkpoints1/ckpt_epoch_139.h5\n",
      "Training Epoch 140\n",
      "Epoch 140, Loss: 0.002879330888390541, Accuracy: 99.91999816894531, Test Loss: 0.49626484513282776, Test Accuracy: 92.18000030517578, Training Time: 0:00:58.877214\n",
      "Checkpoint saved at: ./checkpoints1/ckpt_epoch_140.h5\n",
      "Total Training Time: 0:39:19.281856\n"
     ]
    }
   ],
   "source": [
    "trainer.run()"
   ]
  },
  {
   "cell_type": "code",
   "execution_count": 16,
   "metadata": {},
   "outputs": [
    {
     "name": "stdout",
     "output_type": "stream",
     "text": [
      "WARNING:tensorflow:Skipping full serialization of Keras layer <tensorflow.python.keras.layers.normalization_v2.BatchNormalization object at 0x7fc0f82c74a8>, because it is not built.\n",
      "WARNING:tensorflow:Skipping full serialization of Keras layer <tensorflow.python.keras.layers.advanced_activations.ReLU object at 0x7fc0f8508780>, because it is not built.\n",
      "INFO:tensorflow:Assets written to: ./saved_model1/assets\n",
      "Model saved.\n"
     ]
    }
   ],
   "source": [
    "trainer.model.save(model_path)\n",
    "print(\"Model saved.\")"
   ]
  },
  {
   "cell_type": "code",
   "execution_count": 19,
   "metadata": {},
   "outputs": [
    {
     "data": {
      "image/png": "[encoded data removed]",
      "text/plain": [
       "<Figure size 576x360 with 1 Axes>"
      ]
     },
     "metadata": {
      "needs_background": "light"
     },
     "output_type": "display_data"
    }
   ],
   "source": [
    "plt.figure(figsize=(8, 5))\n",
    "plt.plot(range(100, 100 + len(trainer.train_loss_history)), trainer.train_loss_history, label='Training Loss')\n",
    "plt.plot(range(100, 100 + len(trainer.test_loss_history)), trainer.test_loss_history, label='Validation Loss')\n",
    "plt.title('Training and Validation Loss')\n",
    "plt.xlabel('Epochs')\n",
    "plt.ylabel('Loss')\n",
    "plt.legend()\n",
    "plt.xticks(range(100, 100 + len(trainer.train_loss_history), 5))\n",
    "plt.show()\n"
   ]
  },
  {
   "cell_type": "code",
   "execution_count": 20,
   "metadata": {},
   "outputs": [
    {
     "data": {
      "image/png": "[encoded data removed]",
      "text/plain": [
       "<Figure size 576x360 with 1 Axes>"
      ]
     },
     "metadata": {
      "needs_background": "light"
     },
     "output_type": "display_data"
    }
   ],
   "source": [
    "plt.figure(figsize=(8, 5))\n",
    "plt.plot(range(100, 100 + len(trainer.train_accuracy_history)), trainer.train_accuracy_history, label='Training Accuracy')\n",
    "plt.plot(range(100, 100 + len(trainer.test_accuracy_history)), trainer.test_accuracy_history, label='Validation Accuracy')\n",
    "plt.title('Training and Validation Accuracy')\n",
    "plt.xlabel('Epochs')\n",
    "plt.ylabel('Accuracy')\n",
    "plt.legend()\n",
    "plt.xticks(range(100, 100 + len(trainer.train_accuracy_history), 5))  # 每5个epoch一个刻度，可以根据需要调整\n",
    "plt.show()"
   ]
  }
 ],
 "metadata": {
  "colab": {
   "provenance": []
  },
  "kernelspec": {
   "display_name": "Python 3",
   "language": "python",
   "name": "python3"
  },
  "language_info": {
   "codemirror_mode": {
    "name": "ipython",
    "version": 3
   },
   "file_extension": ".py",
   "mimetype": "text/x-python",
   "name": "python",
   "nbconvert_exporter": "python",
   "pygments_lexer": "ipython3",
   "version": "3.6.9"
  }
 },
 "nbformat": 4,
 "nbformat_minor": 1
}
