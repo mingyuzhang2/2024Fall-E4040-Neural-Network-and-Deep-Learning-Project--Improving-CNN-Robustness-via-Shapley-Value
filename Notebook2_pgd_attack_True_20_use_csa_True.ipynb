{
 "cells": [
  {
   "cell_type": "markdown",
   "metadata": {
    "id": "mm-nwhNRQ8wy"
   },
   "source": [
    "## E4040 2024 Fall Project\n",
    "### Improving CNN Robustness via CS Shapley Value-guided Augmentation"
   ]
  },
  {
   "cell_type": "code",
   "execution_count": 1,
   "metadata": {
    "id": "VW8-sXpHQ69k"
   },
   "outputs": [
    {
     "data": {
      "text/plain": [
       "'/device:GPU:0'"
      ]
     },
     "execution_count": 1,
     "metadata": {},
     "output_type": "execute_result"
    }
   ],
   "source": [
    "%matplotlib inline\n",
    "%load_ext autoreload\n",
    "%autoreload 2\n",
    "\n",
    "import numpy as np\n",
    "import tensorflow as tf\n",
    "import os\n",
    "import matplotlib.pyplot as plt\n",
    "\n",
    "tf.test.gpu_device_name()"
   ]
  },
  {
   "cell_type": "markdown",
   "metadata": {
    "id": "aEhf0dW5Qgdw"
   },
   "source": [
    "### pgd-20 adv attack with CSANet model"
   ]
  },
  {
   "cell_type": "code",
   "execution_count": 2,
   "metadata": {
    "id": "Hi8OkdYcSEq7"
   },
   "outputs": [],
   "source": [
    "from utils.CSANet_trainer import CSANet_trainer, load_cifar10_dataset\n",
    "from utils.model_ResNet18 import ResNet18"
   ]
  },
  {
   "cell_type": "code",
   "execution_count": 3,
   "metadata": {
    "id": "luF2f1RQeQAu"
   },
   "outputs": [],
   "source": [
    "batch_size = 128\n",
    "lr = 0.1\n",
    "momentum = 0.9\n",
    "decay = 0.0005\n",
    "log_period = 100\n",
    "epochs=10\n",
    "num_classes=10\n",
    "checkpoint_dir=\"./checkpoints\"\n",
    "model_path = \"./saved_model\"\n",
    "backbone = ResNet18(num_classes=num_classes)\n",
    "conf_per_class = 5000\n",
    "conf_path=\"./saved_values\"\n",
    "epsilon=0.1\n",
    "pgd_iter=20\n",
    "pgd_alpha=0.01\n",
    "pgd_attack=True\n",
    "use_csa=True"
   ]
  },
  {
   "cell_type": "code",
   "execution_count": 4,
   "metadata": {},
   "outputs": [],
   "source": [
    "train_ds, test_ds = load_cifar10_dataset(batch_size)"
   ]
  },
  {
   "cell_type": "code",
   "execution_count": 5,
   "metadata": {
    "id": "ZaCpuzjJeP-n"
   },
   "outputs": [],
   "source": [
    "trainer = CSANet_trainer(\n",
    "    train_ds=train_ds,\n",
    "    test_ds=test_ds,\n",
    "    num_classes=num_classes,\n",
    "    epochs=epochs,\n",
    "    batch_size=batch_size,\n",
    "    lr=lr,\n",
    "    momentum=momentum,\n",
    "    decay=decay,\n",
    "    checkpoint_dir=checkpoint_dir,\n",
    "    backbone=backbone,\n",
    "    conf_per_class = conf_per_class,\n",
    "    conf_path = conf_path,\n",
    "    epsilon=epsilon,\n",
    "    pgd_iter=pgd_iter,\n",
    "    pgd_alpha=pgd_alpha,\n",
    "    pgd_attack=pgd_attack,\n",
    "    use_csa=use_csa\n",
    ")"
   ]
  },
  {
   "cell_type": "code",
   "execution_count": 6,
   "metadata": {
    "id": "Y_2-LAmwePdc",
    "scrolled": true
   },
   "outputs": [
    {
     "name": "stdout",
     "output_type": "stream",
     "text": [
      "(0,)\n",
      "Restored from checkpoint: ./checkpoints/ckpt_epoch_7.ckpt\n",
      "Restored from epoch 7: \n",
      "Training Epoch 8\n",
      "Epoch 8, Loss: 1.57990562915802, Accuracy: 40.83399963378906, Test Loss: 1.093141794204712, Test Accuracy: 62.58000183105469, Training Time: 0:19:04.740150\n",
      "Checkpoint saved at: ./checkpoints/ckpt_epoch_8.h5\n",
      "Training Epoch 9\n",
      "Epoch 9, Loss: 1.4921530485153198, Accuracy: 43.74399948120117, Test Loss: 1.0263127088546753, Test Accuracy: 65.44000244140625, Training Time: 0:19:02.348797\n",
      "Checkpoint saved at: ./checkpoints/ckpt_epoch_9.h5\n",
      "Training Epoch 10\n",
      "Epoch 10, Loss: 1.4255989789962769, Accuracy: 46.3380012512207, Test Loss: 0.919775664806366, Test Accuracy: 69.4800033569336, Training Time: 0:19:02.641116\n",
      "Checkpoint saved at: ./checkpoints/ckpt_epoch_10.h5\n",
      "Total Training Time: 0:57:10.836789\n"
     ]
    }
   ],
   "source": [
    "trainer.run()"
   ]
  }
 ],
 "metadata": {
  "colab": {
   "provenance": []
  },
  "kernelspec": {
   "display_name": "Python 3",
   "language": "python",
   "name": "python3"
  },
  "language_info": {
   "codemirror_mode": {
    "name": "ipython",
    "version": 3
   },
   "file_extension": ".py",
   "mimetype": "text/x-python",
   "name": "python",
   "nbconvert_exporter": "python",
   "pygments_lexer": "ipython3",
   "version": "3.6.9"
  }
 },
 "nbformat": 4,
 "nbformat_minor": 1
}
