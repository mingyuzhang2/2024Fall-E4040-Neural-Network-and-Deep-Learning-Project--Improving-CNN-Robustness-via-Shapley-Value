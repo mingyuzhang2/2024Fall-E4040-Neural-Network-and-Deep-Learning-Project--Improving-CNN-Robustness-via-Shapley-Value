{
 "cells": [
  {
   "cell_type": "markdown",
   "metadata": {
    "id": "mm-nwhNRQ8wy"
   },
   "source": [
    "## E4040 2024 Fall Project\n",
    "### Improving CNN Robustness via CS Shapley Value-guided Augmentation"
   ]
  },
  {
   "cell_type": "code",
   "execution_count": null,
   "metadata": {
    "id": "VW8-sXpHQ69k"
   },
   "outputs": [],
   "source": [
    "%matplotlib inline\n",
    "%load_ext autoreload\n",
    "%autoreload 2\n",
    "\n",
    "import numpy as np\n",
    "import tensorflow as tf\n",
    "import os\n",
    "import matplotlib.pyplot as plt\n",
    "import pandas as pd\n",
    "\n",
    "tf.test.gpu_device_name()"
   ]
  },
  {
   "cell_type": "markdown",
   "metadata": {
    "id": "aEhf0dW5Qgdw"
   },
   "source": [
    "### Import CIFAR-10 data and training ResNet18"
   ]
  },
  {
   "cell_type": "code",
   "execution_count": null,
   "metadata": {
    "id": "Hi8OkdYcSEq7"
   },
   "outputs": [],
   "source": [
    "from utils.ResNet18_trainer import ResNet18_trainer, load_cifar10_dataset"
   ]
  },
  {
   "cell_type": "code",
   "execution_count": null,
   "metadata": {
    "id": "luF2f1RQeQAu"
   },
   "outputs": [],
   "source": [
    "batch_size = 128\n",
    "lr = 0.01\n",
    "momentum = 0.9\n",
    "decay = 0.0005\n",
    "log_period = 100\n",
    "epochs=160\n",
    "num_classes=10"
   ]
  },
  {
   "cell_type": "code",
   "execution_count": null,
   "metadata": {},
   "outputs": [],
   "source": [
    "train_ds, test_ds = load_cifar10_dataset(batch_size)"
   ]
  },
  {
   "cell_type": "code",
   "execution_count": null,
   "metadata": {
    "id": "ZaCpuzjJeP-n"
   },
   "outputs": [],
   "source": [
    "trainer = ResNet18_trainer(\n",
    "    train_ds=train_ds,\n",
    "    test_ds=test_ds,\n",
    "    num_classes=num_classes,\n",
    "    epochs=epochs,\n",
    "    batch_size=batch_size,\n",
    "    lr=lr,\n",
    "    momentum=momentum,\n",
    "    decay=decay\n",
    ")"
   ]
  },
  {
   "cell_type": "code",
   "execution_count": null,
   "metadata": {
    "id": "Y_2-LAmwePdc",
    "scrolled": true
   },
   "outputs": [],
   "source": [
    "trainer.run()"
   ]
  },
  {
   "cell_type": "code",
   "execution_count": null,
   "metadata": {
    "id": "fArqxHakePav"
   },
   "outputs": [],
   "source": [
    "trainer.model.save(\"~/save_model\")\n",
    "print(\"Model saved to ~/save_model\")"
   ]
  },
  {
   "cell_type": "markdown",
   "metadata": {
    "id": "vsUE2oxdRM1H"
   },
   "source": [
    "### Calculation of Shapley values"
   ]
  },
  {
   "cell_type": "code",
   "execution_count": null,
   "metadata": {
    "id": "TpIl5EZiPyls"
   },
   "outputs": [],
   "source": [
    "import os\n",
    "import tensorflow as tf\n",
    "import numpy as np\n",
    "from tensorflow.keras.datasets import cifar10\n",
    "from tensorflow.keras.models import load_model\n",
    "from pathlib import Path\n",
    "import time\n",
    "#########from utils.utils import set_seed, cifar10_std, cifar10_mean\n",
    "from tensorflow.keras.preprocessing.image import save_img\n",
    "\n",
    "\n",
    "from utils.Shapley_sample import getShapley_pixel, getShapley_freq, getShapley_freq_dis, sample_mask, getShapley_freq_softmax, visual_shap\n"
   ]
  },
  {
   "cell_type": "code",
   "execution_count": null,
   "metadata": {
    "id": "bmii_IhdPyn-"
   },
   "outputs": [],
   "source": [
    "model_name = 'ResNet18'\n",
    "dataset_name = 'cifar10'\n",
    "data_path = '~/data'\n",
    "output_path = './output'\n",
    "model_path = \"./save_model\"\n",
    "sample_times = 2000\n",
    "num_per_class = 150\n",
    "#testdata = False\n",
    "mask_size = 16\n",
    "n_per_batch = 1\n",
    "start_num = 0\n",
    "get_freq_by_dis = False\n",
    "fix_mask = False\n",
    "split_n = 1\n",
    "static_center = False\n",
    "#norm = True\n",
    "batchsize = 64\n",
    "seed = 111\n",
    "\n",
    "set_seed(111)\n"
   ]
  },
  {
   "cell_type": "code",
   "execution_count": null,
   "metadata": {
    "id": "zaowX_CcPyqQ"
   },
   "outputs": [],
   "source": [
    "\n",
    "(x_train, y_train), (x_test, y_test) = cifar10.load_data()\n",
    "#nclass = 10"
   ]
  },
  {
   "cell_type": "code",
   "execution_count": null,
   "metadata": {
    "id": "gIzrSYEgPysV"
   },
   "outputs": [],
   "source": [
    "train_dataset = tf.data.Dataset.from_tensor_slices((x_train, y_train)).batch(batchsize)\n",
    "test_dataset = tf.data.Dataset.from_tensor_slices((x_test, y_test)).batch(batchsize)"
   ]
  },
  {
   "cell_type": "code",
   "execution_count": null,
   "metadata": {
    "id": "hXX39alyPyun"
   },
   "outputs": [],
   "source": [
    "# Load model\n",
    "model = tf.keras.models.load_model(model_path)\n"
   ]
  },
  {
   "cell_type": "code",
   "execution_count": null,
   "metadata": {
    "id": "gYeAt1MUPywK"
   },
   "outputs": [],
   "source": [
    "count = [0 for _ in range(num_classes)]\n",
    "\n",
    "dataset = test_dataset\n",
    "for img, y in dataset:\n",
    "    bs, w, h, c = img.shape\n",
    "    img, y = tf.convert_to_tensor(img), tf.convert_to_tensor(y)\n",
    "\n",
    "    for k in range(bs):\n",
    "        if count[y[k].numpy()[0]] < 0:\n",
    "            count[y[k].numpy()[0]] += 1\n",
    "        elif count[y[k].numpy()[0]] < 50:\n",
    "            shap_value = getShapley_freq_softmax(\n",
    "                img, y, model, sample_times, mask_size, k,\n",
    "                n_per_batch=n_per_batch,\n",
    "                split_n=split_n,\n",
    "                static_center=False\n",
    "            )\n",
    "\n",
    "            shap_path = os.path.join('', \"shap_result\", f\"{y[k].numpy()[0]}\")\n",
    "            Path(shap_path).mkdir(parents=True, exist_ok=True)\n",
    "            np.save(os.path.join(shap_path, f\"{count[y[k].numpy()[0]]}_freq.npy\"), shap_value)\n",
    "\n",
    "            visual_path = os.path.join(shap_path, f\"{count[y[k].numpy()[0]]}_freq_shap.png\")\n",
    "            visual_shap(shap_value, mask_size, mask_size, visual_path)\n",
    "\n",
    "            raw_img = img[k].numpy()\n",
    "            img_path = os.path.join(shap_path, f\"{count[y[k].numpy()[0]]}.png\")\n",
    "            #if norm:\n",
    "            #    for j in range(3):\n",
    "            #        raw_img[:, :, j] = raw_img[:, :, j] * cifar10_std[j] + cifar10_mean[j]\n",
    "            #save_img(img_path, raw_img)\n",
    "\n",
    "            count[y[k].numpy()[0]] += 1\n",
    "            print(f\"Class {y[k].numpy()[0]} sample {count[y[k].numpy()[0]]} completed.\")\n"
   ]
  },
  {
   "cell_type": "code",
   "execution_count": null,
   "metadata": {
    "id": "mY9zufwfPy2k"
   },
   "outputs": [],
   "source": []
  },
  {
   "cell_type": "markdown",
   "metadata": {
    "id": "L1QgHrNGPy4j"
   },
   "source": [
    "### Reconstructing Shapley Values"
   ]
  },
  {
   "cell_type": "code",
   "execution_count": null,
   "metadata": {},
   "outputs": [],
   "source": []
  },
  {
   "cell_type": "code",
   "execution_count": null,
   "metadata": {},
   "outputs": [],
   "source": []
  },
  {
   "cell_type": "markdown",
   "metadata": {},
   "source": [
    "### Train ResNet18 under AT with CSA"
   ]
  },
  {
   "cell_type": "code",
   "execution_count": null,
   "metadata": {},
   "outputs": [],
   "source": []
  }
 ],
 "metadata": {
  "colab": {
   "provenance": []
  },
  "kernelspec": {
   "display_name": "Python 3",
   "language": "python",
   "name": "python3"
  },
  "language_info": {
   "codemirror_mode": {
    "name": "ipython",
    "version": 3
   },
   "file_extension": ".py",
   "mimetype": "text/x-python",
   "name": "python",
   "nbconvert_exporter": "python",
   "pygments_lexer": "ipython3",
   "version": "3.6.9"
  }
 },
 "nbformat": 4,
 "nbformat_minor": 1
}
