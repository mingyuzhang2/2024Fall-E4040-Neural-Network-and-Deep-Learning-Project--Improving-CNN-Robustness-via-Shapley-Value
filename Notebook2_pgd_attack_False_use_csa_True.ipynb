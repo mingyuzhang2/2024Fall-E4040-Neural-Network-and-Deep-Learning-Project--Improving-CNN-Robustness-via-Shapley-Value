{
 "cells": [
  {
   "cell_type": "markdown",
   "metadata": {
    "id": "mm-nwhNRQ8wy"
   },
   "source": [
    "## E4040 2024 Fall Project\n",
    "### Improving CNN Robustness via CS Shapley Value-guided Augmentation"
   ]
  },
  {
   "cell_type": "code",
   "execution_count": 1,
   "metadata": {
    "id": "VW8-sXpHQ69k"
   },
   "outputs": [
    {
     "data": {
      "text/plain": [
       "'/device:GPU:0'"
      ]
     },
     "execution_count": 1,
     "metadata": {},
     "output_type": "execute_result"
    }
   ],
   "source": [
    "%matplotlib inline\n",
    "%load_ext autoreload\n",
    "%autoreload 2\n",
    "\n",
    "import numpy as np\n",
    "import tensorflow as tf\n",
    "import os\n",
    "import matplotlib.pyplot as plt\n",
    "#import pandas as pd\n",
    "\n",
    "tf.test.gpu_device_name()"
   ]
  },
  {
   "cell_type": "markdown",
   "metadata": {
    "id": "aEhf0dW5Qgdw"
   },
   "source": [
    "### Import CIFAR-10 data and training ResNet18"
   ]
  },
  {
   "cell_type": "code",
   "execution_count": 2,
   "metadata": {
    "id": "Hi8OkdYcSEq7"
   },
   "outputs": [],
   "source": [
    "from utils.CSANet_trainer import CSANet_trainer, load_cifar10_dataset\n",
    "from utils.model_ResNet18 import ResNet18"
   ]
  },
  {
   "cell_type": "code",
   "execution_count": 3,
   "metadata": {
    "id": "luF2f1RQeQAu"
   },
   "outputs": [],
   "source": [
    "batch_size = 128\n",
    "lr = 0.1\n",
    "momentum = 0.9\n",
    "decay = 0.0005\n",
    "log_period = 100\n",
    "epochs=10\n",
    "num_classes=10\n",
    "checkpoint_dir=\"./checkpoints_pgd_attack_False_use_csa_True\"\n",
    "model_path = \"./saved_model__pgd_attack_False_use_csa_True\"\n",
    "backbone = ResNet18(num_classes=num_classes)\n",
    "conf_per_class = 5000\n",
    "conf_path=\"./saved_values\"\n",
    "epsilon=0.1\n",
    "pgd_iter=10\n",
    "pgd_alpha=0.01\n",
    "pgd_attack=False\n",
    "use_csa=True"
   ]
  },
  {
   "cell_type": "code",
   "execution_count": 4,
   "metadata": {},
   "outputs": [],
   "source": [
    "train_ds, test_ds = load_cifar10_dataset(batch_size)"
   ]
  },
  {
   "cell_type": "code",
   "execution_count": 5,
   "metadata": {
    "id": "ZaCpuzjJeP-n"
   },
   "outputs": [],
   "source": [
    "trainer = CSANet_trainer(\n",
    "    train_ds=train_ds,\n",
    "    test_ds=test_ds,\n",
    "    num_classes=num_classes,\n",
    "    epochs=epochs,\n",
    "    batch_size=batch_size,\n",
    "    lr=lr,\n",
    "    momentum=momentum,\n",
    "    decay=decay,\n",
    "    checkpoint_dir=checkpoint_dir,\n",
    "    backbone=backbone,\n",
    "    conf_per_class = conf_per_class,\n",
    "    conf_path = conf_path,\n",
    "    epsilon=epsilon,\n",
    "    pgd_iter=pgd_iter,\n",
    "    pgd_alpha=pgd_alpha,\n",
    "    pgd_attack=pgd_attack,\n",
    "    use_csa=use_csa\n",
    ")"
   ]
  },
  {
   "cell_type": "code",
   "execution_count": 6,
   "metadata": {
    "id": "Y_2-LAmwePdc",
    "scrolled": true
   },
   "outputs": [
    {
     "name": "stdout",
     "output_type": "stream",
     "text": [
      "(0,)\n",
      "No checkpoint found. Starting from scratch.\n",
      "Training Epoch 1\n",
      "Epoch 1, Loss: 2.0709049701690674, Accuracy: 28.799999237060547, Test Loss: 1.5609482526779175, Test Accuracy: 41.37000274658203, Training Time: 0:01:08.750586\n",
      "Checkpoint saved at: ./checkpoints/ckpt_epoch_1.h5\n",
      "Training Epoch 2\n",
      "Epoch 2, Loss: 2.0366485118865967, Accuracy: 30.858001708984375, Test Loss: 1.6698473691940308, Test Accuracy: 39.71999740600586, Training Time: 0:00:58.790231\n",
      "Checkpoint saved at: ./checkpoints/ckpt_epoch_2.h5\n",
      "Training Epoch 3\n",
      "Epoch 3, Loss: 1.433929681777954, Accuracy: 47.720001220703125, Test Loss: 1.2332251071929932, Test Accuracy: 55.040000915527344, Training Time: 0:00:58.810953\n",
      "Checkpoint saved at: ./checkpoints/ckpt_epoch_3.h5\n",
      "Training Epoch 4\n",
      "Epoch 4, Loss: 1.1267277002334595, Accuracy: 59.56399917602539, Test Loss: 1.0419745445251465, Test Accuracy: 63.599998474121094, Training Time: 0:00:58.816220\n",
      "Checkpoint saved at: ./checkpoints/ckpt_epoch_4.h5\n",
      "Training Epoch 5\n",
      "Epoch 5, Loss: 0.9040347337722778, Accuracy: 68.02200317382812, Test Loss: 0.8623442053794861, Test Accuracy: 69.52999877929688, Training Time: 0:00:58.775043\n",
      "Checkpoint saved at: ./checkpoints/ckpt_epoch_5.h5\n",
      "Training Epoch 6\n",
      "Epoch 6, Loss: 0.7498118877410889, Accuracy: 73.79999542236328, Test Loss: 0.7150806784629822, Test Accuracy: 75.37999725341797, Training Time: 0:00:58.822842\n",
      "Checkpoint saved at: ./checkpoints/ckpt_epoch_6.h5\n",
      "Training Epoch 7\n",
      "Epoch 7, Loss: 0.6426727771759033, Accuracy: 77.66400146484375, Test Loss: 0.7016444206237793, Test Accuracy: 76.3800048828125, Training Time: 0:00:58.753430\n",
      "Checkpoint saved at: ./checkpoints/ckpt_epoch_7.h5\n",
      "Training Epoch 8\n",
      "Epoch 8, Loss: 0.5706932544708252, Accuracy: 80.41799926757812, Test Loss: 0.5840232968330383, Test Accuracy: 79.87999725341797, Training Time: 0:00:58.746242\n",
      "Checkpoint saved at: ./checkpoints/ckpt_epoch_8.h5\n",
      "Training Epoch 9\n",
      "Epoch 9, Loss: 0.5074842572212219, Accuracy: 82.51399993896484, Test Loss: 0.5759968757629395, Test Accuracy: 80.54000091552734, Training Time: 0:00:58.682903\n",
      "Checkpoint saved at: ./checkpoints/ckpt_epoch_9.h5\n",
      "Training Epoch 10\n",
      "Epoch 10, Loss: 0.46598491072654724, Accuracy: 84.01799774169922, Test Loss: 0.5608572363853455, Test Accuracy: 80.40999603271484, Training Time: 0:00:58.808058\n",
      "Checkpoint saved at: ./checkpoints/ckpt_epoch_10.h5\n",
      "Total Training Time: 0:09:59.441912\n"
     ]
    }
   ],
   "source": [
    "trainer.run()"
   ]
  },
  {
   "cell_type": "code",
   "execution_count": 7,
   "metadata": {
    "id": "fArqxHakePav",
    "scrolled": true
   },
   "outputs": [
    {
     "name": "stdout",
     "output_type": "stream",
     "text": [
      "WARNING:tensorflow:Skipping full serialization of Keras layer <tensorflow.python.keras.layers.normalization_v2.BatchNormalization object at 0x7f1286d45630>, because it is not built.\n",
      "WARNING:tensorflow:Skipping full serialization of Keras layer <tensorflow.python.keras.layers.advanced_activations.ReLU object at 0x7f1286d45978>, because it is not built.\n",
      "WARNING:tensorflow:Skipping full serialization of Keras layer <utils.model_CSANet.NFCBank object at 0x7f12a41593c8>, because it is not built.\n",
      "INFO:tensorflow:Assets written to: ./saved_model/assets\n",
      "Model saved\n"
     ]
    }
   ],
   "source": [
    "trainer.model.save(model_path)\n",
    "print(\"Model saved\")"
   ]
  }
 ],
 "metadata": {
  "colab": {
   "provenance": []
  },
  "kernelspec": {
   "display_name": "Python 3",
   "language": "python",
   "name": "python3"
  },
  "language_info": {
   "codemirror_mode": {
    "name": "ipython",
    "version": 3
   },
   "file_extension": ".py",
   "mimetype": "text/x-python",
   "name": "python",
   "nbconvert_exporter": "python",
   "pygments_lexer": "ipython3",
   "version": "3.6.9"
  }
 },
 "nbformat": 4,
 "nbformat_minor": 1
}
