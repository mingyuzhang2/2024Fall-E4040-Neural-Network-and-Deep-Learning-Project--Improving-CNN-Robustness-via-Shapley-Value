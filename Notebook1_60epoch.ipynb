{
 "cells": [
  {
   "cell_type": "markdown",
   "metadata": {
    "id": "mm-nwhNRQ8wy"
   },
   "source": [
    "## E4040 2024 Fall Project\n",
    "### Improving CNN Robustness via CS Shapley Value-guided Augmentation"
   ]
  },
  {
   "cell_type": "code",
   "execution_count": 1,
   "metadata": {
    "id": "VW8-sXpHQ69k"
   },
   "outputs": [
    {
     "data": {
      "text/plain": [
       "'/device:GPU:0'"
      ]
     },
     "execution_count": 1,
     "metadata": {},
     "output_type": "execute_result"
    }
   ],
   "source": [
    "%matplotlib inline\n",
    "%load_ext autoreload\n",
    "%autoreload 2\n",
    "\n",
    "import numpy as np\n",
    "import tensorflow as tf\n",
    "import os\n",
    "import matplotlib.pyplot as plt\n",
    "\n",
    "tf.test.gpu_device_name()"
   ]
  },
  {
   "cell_type": "markdown",
   "metadata": {
    "id": "aEhf0dW5Qgdw"
   },
   "source": [
    "### Import CIFAR-10 data and training ResNet18 with 60 epochs"
   ]
  },
  {
   "cell_type": "code",
   "execution_count": 2,
   "metadata": {
    "id": "Hi8OkdYcSEq7"
   },
   "outputs": [],
   "source": [
    "from utils.ResNet18_trainer import ResNet18_trainer, load_cifar10_dataset"
   ]
  },
  {
   "cell_type": "code",
   "execution_count": 3,
   "metadata": {
    "id": "luF2f1RQeQAu"
   },
   "outputs": [],
   "source": [
    "batch_size = 128\n",
    "lr = 0.1\n",
    "momentum = 0.9\n",
    "decay = 0.0005\n",
    "epochs=60\n",
    "num_classes=10\n",
    "checkpoint_dir=\"./checkpoints1\"\n",
    "model_path = \"./saved_model1\""
   ]
  },
  {
   "cell_type": "code",
   "execution_count": 4,
   "metadata": {},
   "outputs": [],
   "source": [
    "train_ds, test_ds = load_cifar10_dataset(batch_size)"
   ]
  },
  {
   "cell_type": "code",
   "execution_count": 5,
   "metadata": {
    "id": "ZaCpuzjJeP-n"
   },
   "outputs": [],
   "source": [
    "trainer = ResNet18_trainer(\n",
    "    train_ds=train_ds,\n",
    "    test_ds=test_ds,\n",
    "    num_classes=num_classes,\n",
    "    epochs=epochs,\n",
    "    batch_size=batch_size,\n",
    "    lr=lr,\n",
    "    momentum=momentum,\n",
    "    decay=decay,\n",
    "    checkpoint_dir=checkpoint_dir\n",
    ")"
   ]
  },
  {
   "cell_type": "code",
   "execution_count": 6,
   "metadata": {
    "id": "Y_2-LAmwePdc",
    "scrolled": true
   },
   "outputs": [
    {
     "name": "stdout",
     "output_type": "stream",
     "text": [
      "No checkpoint found. Starting from scratch.\n",
      "Training Epoch 1\n",
      "Epoch 1, Loss: 2.067683696746826, Accuracy: 28.310001373291016, Test Loss: 1.5836601257324219, Test Accuracy: 42.69999694824219, Training Time: 0:01:06.249099\n",
      "Checkpoint saved at: ./checkpoints1/ckpt_epoch_1.h5\n",
      "Training Epoch 2\n",
      "Epoch 2, Loss: 2.014183521270752, Accuracy: 30.97599983215332, Test Loss: 1.5580183267593384, Test Accuracy: 41.61000061035156, Training Time: 0:01:00.326300\n",
      "Checkpoint saved at: ./checkpoints1/ckpt_epoch_2.h5\n",
      "Training Epoch 3\n",
      "Epoch 3, Loss: 1.3904081583023071, Accuracy: 49.3120002746582, Test Loss: 1.2218672037124634, Test Accuracy: 56.209999084472656, Training Time: 0:01:00.351850\n",
      "Checkpoint saved at: ./checkpoints1/ckpt_epoch_3.h5\n",
      "Training Epoch 4\n",
      "Epoch 4, Loss: 1.0918962955474854, Accuracy: 61.15599822998047, Test Loss: 0.9703238010406494, Test Accuracy: 66.05999755859375, Training Time: 0:01:00.280833\n",
      "Checkpoint saved at: ./checkpoints1/ckpt_epoch_4.h5\n",
      "Training Epoch 5\n",
      "Epoch 5, Loss: 0.8810079097747803, Accuracy: 68.947998046875, Test Loss: 0.9013243913650513, Test Accuracy: 67.77999877929688, Training Time: 0:01:00.323748\n",
      "Checkpoint saved at: ./checkpoints1/ckpt_epoch_5.h5\n",
      "Training Epoch 6\n",
      "Epoch 6, Loss: 0.7356780171394348, Accuracy: 74.39399719238281, Test Loss: 0.8184228539466858, Test Accuracy: 71.5, Training Time: 0:01:00.398098\n",
      "Checkpoint saved at: ./checkpoints1/ckpt_epoch_6.h5\n",
      "Training Epoch 7\n",
      "Epoch 7, Loss: 0.6422748565673828, Accuracy: 77.60400390625, Test Loss: 0.6948937773704529, Test Accuracy: 76.0999984741211, Training Time: 0:01:00.269093\n",
      "Checkpoint saved at: ./checkpoints1/ckpt_epoch_7.h5\n",
      "Training Epoch 8\n",
      "Epoch 8, Loss: 0.5675461292266846, Accuracy: 80.27399444580078, Test Loss: 0.6130789518356323, Test Accuracy: 78.98999786376953, Training Time: 0:01:00.336498\n",
      "Checkpoint saved at: ./checkpoints1/ckpt_epoch_8.h5\n",
      "Training Epoch 9\n",
      "Epoch 9, Loss: 0.5107898712158203, Accuracy: 82.53600311279297, Test Loss: 0.5329851508140564, Test Accuracy: 81.33000183105469, Training Time: 0:01:00.276507\n",
      "Checkpoint saved at: ./checkpoints1/ckpt_epoch_9.h5\n",
      "Training Epoch 10\n",
      "Epoch 10, Loss: 0.46521586179733276, Accuracy: 83.89599609375, Test Loss: 0.4912833571434021, Test Accuracy: 82.75, Training Time: 0:01:00.350003\n",
      "Checkpoint saved at: ./checkpoints1/ckpt_epoch_10.h5\n",
      "Training Epoch 11\n",
      "Epoch 11, Loss: 0.42367276549339294, Accuracy: 85.23999786376953, Test Loss: 0.5179179906845093, Test Accuracy: 82.5999984741211, Training Time: 0:01:00.284949\n",
      "Checkpoint saved at: ./checkpoints1/ckpt_epoch_11.h5\n",
      "Training Epoch 12\n",
      "Epoch 12, Loss: 0.3885687589645386, Accuracy: 86.60600280761719, Test Loss: 0.49557769298553467, Test Accuracy: 83.76000213623047, Training Time: 0:01:00.329343\n",
      "Checkpoint saved at: ./checkpoints1/ckpt_epoch_12.h5\n",
      "Training Epoch 13\n",
      "Epoch 13, Loss: 0.3646914064884186, Accuracy: 87.38399505615234, Test Loss: 0.4673650860786438, Test Accuracy: 84.20999908447266, Training Time: 0:01:00.245882\n",
      "Checkpoint saved at: ./checkpoints1/ckpt_epoch_13.h5\n",
      "Training Epoch 14\n",
      "Epoch 14, Loss: 0.3336499333381653, Accuracy: 88.35800170898438, Test Loss: 0.449540913105011, Test Accuracy: 85.08999633789062, Training Time: 0:01:00.335352\n",
      "Checkpoint saved at: ./checkpoints1/ckpt_epoch_14.h5\n",
      "Training Epoch 15\n",
      "Epoch 15, Loss: 0.30718064308166504, Accuracy: 89.31600189208984, Test Loss: 0.41705530881881714, Test Accuracy: 86.4000015258789, Training Time: 0:01:00.218614\n",
      "Checkpoint saved at: ./checkpoints1/ckpt_epoch_15.h5\n",
      "Training Epoch 16\n",
      "Epoch 16, Loss: 0.2895548641681671, Accuracy: 89.91000366210938, Test Loss: 0.43398192524909973, Test Accuracy: 85.79999542236328, Training Time: 0:01:00.308985\n",
      "Checkpoint saved at: ./checkpoints1/ckpt_epoch_16.h5\n",
      "Training Epoch 17\n",
      "Epoch 17, Loss: 0.26986730098724365, Accuracy: 90.59600067138672, Test Loss: 0.38449931144714355, Test Accuracy: 87.45999908447266, Training Time: 0:01:00.371164\n",
      "Checkpoint saved at: ./checkpoints1/ckpt_epoch_17.h5\n",
      "Training Epoch 18\n",
      "Epoch 18, Loss: 0.25022709369659424, Accuracy: 91.21599578857422, Test Loss: 0.41670748591423035, Test Accuracy: 86.47999572753906, Training Time: 0:01:00.275707\n",
      "Checkpoint saved at: ./checkpoints1/ckpt_epoch_18.h5\n",
      "Training Epoch 19\n",
      "Epoch 19, Loss: 0.2305966168642044, Accuracy: 91.80599975585938, Test Loss: 0.4024222195148468, Test Accuracy: 87.79000091552734, Training Time: 0:01:00.344271\n",
      "Checkpoint saved at: ./checkpoints1/ckpt_epoch_19.h5\n",
      "Training Epoch 20\n",
      "Epoch 20, Loss: 0.22344902157783508, Accuracy: 92.1760025024414, Test Loss: 0.36881229281425476, Test Accuracy: 88.22000122070312, Training Time: 0:01:00.264827\n",
      "Checkpoint saved at: ./checkpoints1/ckpt_epoch_20.h5\n",
      "Training Epoch 21\n",
      "Epoch 21, Loss: 0.20536886155605316, Accuracy: 92.80599975585938, Test Loss: 0.4529474079608917, Test Accuracy: 86.1199951171875, Training Time: 0:01:00.343343\n",
      "Checkpoint saved at: ./checkpoints1/ckpt_epoch_21.h5\n",
      "Training Epoch 22\n",
      "Epoch 22, Loss: 0.19465762376785278, Accuracy: 93.16799926757812, Test Loss: 0.3683682978153229, Test Accuracy: 88.91999816894531, Training Time: 0:01:00.244253\n",
      "Checkpoint saved at: ./checkpoints1/ckpt_epoch_22.h5\n",
      "Training Epoch 23\n",
      "Epoch 23, Loss: 0.1820405125617981, Accuracy: 93.69000244140625, Test Loss: 0.41013839840888977, Test Accuracy: 87.84000396728516, Training Time: 0:01:00.285024\n",
      "Checkpoint saved at: ./checkpoints1/ckpt_epoch_23.h5\n",
      "Training Epoch 24\n",
      "Epoch 24, Loss: 0.16975577175617218, Accuracy: 93.947998046875, Test Loss: 0.37375444173812866, Test Accuracy: 88.33000183105469, Training Time: 0:01:00.222705\n",
      "Checkpoint saved at: ./checkpoints1/ckpt_epoch_24.h5\n",
      "Training Epoch 25\n",
      "Epoch 25, Loss: 0.1603197157382965, Accuracy: 94.24600219726562, Test Loss: 0.38216063380241394, Test Accuracy: 88.79000091552734, Training Time: 0:01:00.313389\n",
      "Checkpoint saved at: ./checkpoints1/ckpt_epoch_25.h5\n",
      "Training Epoch 26\n",
      "Epoch 26, Loss: 0.14993496239185333, Accuracy: 94.76799774169922, Test Loss: 0.388175368309021, Test Accuracy: 88.38999938964844, Training Time: 0:01:00.299575\n",
      "Checkpoint saved at: ./checkpoints1/ckpt_epoch_26.h5\n",
      "Training Epoch 27\n",
      "Epoch 27, Loss: 0.13837261497974396, Accuracy: 95.06199645996094, Test Loss: 0.41292068362236023, Test Accuracy: 88.27999877929688, Training Time: 0:01:00.252420\n",
      "Checkpoint saved at: ./checkpoints1/ckpt_epoch_27.h5\n",
      "Training Epoch 28\n",
      "Epoch 28, Loss: 0.12936247885227203, Accuracy: 95.35199737548828, Test Loss: 0.40399855375289917, Test Accuracy: 89.02000427246094, Training Time: 0:01:00.320014\n",
      "Checkpoint saved at: ./checkpoints1/ckpt_epoch_28.h5\n",
      "Training Epoch 29\n",
      "Epoch 29, Loss: 0.12045717239379883, Accuracy: 95.77799987792969, Test Loss: 0.4232000410556793, Test Accuracy: 88.16000366210938, Training Time: 0:01:00.249959\n",
      "Checkpoint saved at: ./checkpoints1/ckpt_epoch_29.h5\n",
      "Training Epoch 30\n",
      "Epoch 30, Loss: 0.11968397349119186, Accuracy: 95.76599884033203, Test Loss: 0.40413931012153625, Test Accuracy: 88.31999969482422, Training Time: 0:01:00.328752\n",
      "Checkpoint saved at: ./checkpoints1/ckpt_epoch_30.h5\n",
      "Training Epoch 31\n",
      "Epoch 31, Loss: 0.10861728340387344, Accuracy: 96.25800323486328, Test Loss: 0.40453752875328064, Test Accuracy: 89.61000061035156, Training Time: 0:01:00.276525\n",
      "Checkpoint saved at: ./checkpoints1/ckpt_epoch_31.h5\n",
      "Training Epoch 32\n",
      "Epoch 32, Loss: 0.10281147807836533, Accuracy: 96.36199951171875, Test Loss: 0.38730114698410034, Test Accuracy: 89.51000213623047, Training Time: 0:01:00.307031\n",
      "Checkpoint saved at: ./checkpoints1/ckpt_epoch_32.h5\n",
      "Training Epoch 33\n",
      "Epoch 33, Loss: 0.09348972886800766, Accuracy: 96.6500015258789, Test Loss: 0.4532356262207031, Test Accuracy: 88.02000427246094, Training Time: 0:01:00.219468\n",
      "Checkpoint saved at: ./checkpoints1/ckpt_epoch_33.h5\n",
      "Training Epoch 34\n",
      "Epoch 34, Loss: 0.09125680476427078, Accuracy: 96.80999755859375, Test Loss: 0.38426673412323, Test Accuracy: 89.80000305175781, Training Time: 0:01:00.309641\n",
      "Checkpoint saved at: ./checkpoints1/ckpt_epoch_34.h5\n",
      "Training Epoch 35\n",
      "Epoch 35, Loss: 0.08096287399530411, Accuracy: 97.05999755859375, Test Loss: 0.4318207800388336, Test Accuracy: 89.7300033569336, Training Time: 0:01:00.234471\n",
      "Checkpoint saved at: ./checkpoints1/ckpt_epoch_35.h5\n",
      "Training Epoch 36\n",
      "Epoch 36, Loss: 0.08029831945896149, Accuracy: 97.1780014038086, Test Loss: 0.44832122325897217, Test Accuracy: 89.3800048828125, Training Time: 0:01:00.311611\n",
      "Checkpoint saved at: ./checkpoints1/ckpt_epoch_36.h5\n",
      "Training Epoch 37\n"
     ]
    },
    {
     "name": "stdout",
     "output_type": "stream",
     "text": [
      "Epoch 37, Loss: 0.07844989001750946, Accuracy: 97.2239990234375, Test Loss: 0.3906303942203522, Test Accuracy: 90.02000427246094, Training Time: 0:01:00.279852\n",
      "Checkpoint saved at: ./checkpoints1/ckpt_epoch_37.h5\n",
      "Training Epoch 38\n",
      "Epoch 38, Loss: 0.06736187636852264, Accuracy: 97.6259994506836, Test Loss: 0.44314149022102356, Test Accuracy: 89.30000305175781, Training Time: 0:01:00.262742\n",
      "Checkpoint saved at: ./checkpoints1/ckpt_epoch_38.h5\n",
      "Training Epoch 39\n",
      "Epoch 39, Loss: 0.06612104922533035, Accuracy: 97.73799896240234, Test Loss: 0.4114791750907898, Test Accuracy: 89.84000396728516, Training Time: 0:01:00.311637\n",
      "Checkpoint saved at: ./checkpoints1/ckpt_epoch_39.h5\n",
      "Training Epoch 40\n",
      "Epoch 40, Loss: 0.06193876639008522, Accuracy: 97.81600189208984, Test Loss: 0.41403728723526, Test Accuracy: 90.05000305175781, Training Time: 0:01:00.228836\n",
      "Checkpoint saved at: ./checkpoints1/ckpt_epoch_40.h5\n",
      "Training Epoch 41\n",
      "Epoch 41, Loss: 0.06026388332247734, Accuracy: 97.83200073242188, Test Loss: 0.4258618950843811, Test Accuracy: 90.06000518798828, Training Time: 0:01:00.272717\n",
      "Checkpoint saved at: ./checkpoints1/ckpt_epoch_41.h5\n",
      "Training Epoch 42\n",
      "Epoch 42, Loss: 0.053904224187135696, Accuracy: 98.11599731445312, Test Loss: 0.4236757755279541, Test Accuracy: 90.2300033569336, Training Time: 0:01:00.221728\n",
      "Checkpoint saved at: ./checkpoints1/ckpt_epoch_42.h5\n",
      "Training Epoch 43\n",
      "Epoch 43, Loss: 0.053653717041015625, Accuracy: 98.08200073242188, Test Loss: 0.45310187339782715, Test Accuracy: 89.72000122070312, Training Time: 0:01:00.319380\n",
      "Checkpoint saved at: ./checkpoints1/ckpt_epoch_43.h5\n",
      "Training Epoch 44\n",
      "Epoch 44, Loss: 0.051079947501420975, Accuracy: 98.19999694824219, Test Loss: 0.45804691314697266, Test Accuracy: 89.68000030517578, Training Time: 0:01:00.245422\n",
      "Checkpoint saved at: ./checkpoints1/ckpt_epoch_44.h5\n",
      "Training Epoch 45\n",
      "Epoch 45, Loss: 0.04643918201327324, Accuracy: 98.38600158691406, Test Loss: 0.43076902627944946, Test Accuracy: 90.06999969482422, Training Time: 0:01:00.295891\n",
      "Checkpoint saved at: ./checkpoints1/ckpt_epoch_45.h5\n",
      "Training Epoch 46\n",
      "Epoch 46, Loss: 0.04269864782691002, Accuracy: 98.45999908447266, Test Loss: 0.454213410615921, Test Accuracy: 90.19000244140625, Training Time: 0:01:00.241660\n",
      "Checkpoint saved at: ./checkpoints1/ckpt_epoch_46.h5\n",
      "Training Epoch 47\n",
      "Epoch 47, Loss: 0.03926201909780502, Accuracy: 98.63800048828125, Test Loss: 0.427607923746109, Test Accuracy: 90.83000183105469, Training Time: 0:01:00.346800\n",
      "Checkpoint saved at: ./checkpoints1/ckpt_epoch_47.h5\n",
      "Training Epoch 48\n",
      "Epoch 48, Loss: 0.04181181266903877, Accuracy: 98.5459976196289, Test Loss: 0.46195244789123535, Test Accuracy: 90.37000274658203, Training Time: 0:01:00.331619\n",
      "Checkpoint saved at: ./checkpoints1/ckpt_epoch_48.h5\n",
      "Training Epoch 49\n",
      "Epoch 49, Loss: 0.035888269543647766, Accuracy: 98.70800018310547, Test Loss: 0.44124090671539307, Test Accuracy: 90.97000122070312, Training Time: 0:01:00.222135\n",
      "Checkpoint saved at: ./checkpoints1/ckpt_epoch_49.h5\n",
      "Training Epoch 50\n",
      "Epoch 50, Loss: 0.03303506225347519, Accuracy: 98.84200286865234, Test Loss: 0.43919581174850464, Test Accuracy: 90.73999786376953, Training Time: 0:01:00.320634\n",
      "Checkpoint saved at: ./checkpoints1/ckpt_epoch_50.h5\n",
      "Training Epoch 51\n",
      "Epoch 51, Loss: 0.032027717679739, Accuracy: 98.86399841308594, Test Loss: 0.5301831364631653, Test Accuracy: 89.70000457763672, Training Time: 0:01:00.227671\n",
      "Checkpoint saved at: ./checkpoints1/ckpt_epoch_51.h5\n",
      "Training Epoch 52\n",
      "Epoch 52, Loss: 0.030306944623589516, Accuracy: 98.90800476074219, Test Loss: 0.46293461322784424, Test Accuracy: 90.43000030517578, Training Time: 0:01:00.318469\n",
      "Checkpoint saved at: ./checkpoints1/ckpt_epoch_52.h5\n",
      "Training Epoch 53\n",
      "Epoch 53, Loss: 0.030079670250415802, Accuracy: 98.94599914550781, Test Loss: 0.5464850068092346, Test Accuracy: 89.61000061035156, Training Time: 0:01:00.215231\n",
      "Checkpoint saved at: ./checkpoints1/ckpt_epoch_53.h5\n",
      "Training Epoch 54\n",
      "Epoch 54, Loss: 0.028324156999588013, Accuracy: 98.99600219726562, Test Loss: 0.46534666419029236, Test Accuracy: 90.41999816894531, Training Time: 0:01:00.311799\n",
      "Checkpoint saved at: ./checkpoints1/ckpt_epoch_54.h5\n",
      "Training Epoch 55\n",
      "Epoch 55, Loss: 0.02758687362074852, Accuracy: 99.0199966430664, Test Loss: 0.47745731472969055, Test Accuracy: 90.48999786376953, Training Time: 0:01:00.242362\n",
      "Checkpoint saved at: ./checkpoints1/ckpt_epoch_55.h5\n",
      "Training Epoch 56\n",
      "Epoch 56, Loss: 0.025351932272315025, Accuracy: 99.1780014038086, Test Loss: 0.4887033700942993, Test Accuracy: 90.8699951171875, Training Time: 0:01:00.293347\n",
      "Checkpoint saved at: ./checkpoints1/ckpt_epoch_56.h5\n",
      "Training Epoch 57\n",
      "Epoch 57, Loss: 0.02466777339577675, Accuracy: 99.11800384521484, Test Loss: 0.46415725350379944, Test Accuracy: 90.76000213623047, Training Time: 0:01:00.271875\n",
      "Checkpoint saved at: ./checkpoints1/ckpt_epoch_57.h5\n",
      "Training Epoch 58\n",
      "Epoch 58, Loss: 0.025157468393445015, Accuracy: 99.1500015258789, Test Loss: 0.49314630031585693, Test Accuracy: 90.3800048828125, Training Time: 0:01:00.255844\n",
      "Checkpoint saved at: ./checkpoints1/ckpt_epoch_58.h5\n",
      "Training Epoch 59\n",
      "Epoch 59, Loss: 0.02202395536005497, Accuracy: 99.23999786376953, Test Loss: 0.4614441394805908, Test Accuracy: 91.0, Training Time: 0:01:00.326439\n",
      "Checkpoint saved at: ./checkpoints1/ckpt_epoch_59.h5\n",
      "Training Epoch 60\n",
      "Epoch 60, Loss: 0.022664660587906837, Accuracy: 99.21399688720703, Test Loss: 0.48109593987464905, Test Accuracy: 90.8499984741211, Training Time: 0:01:00.207498\n",
      "Checkpoint saved at: ./checkpoints1/ckpt_epoch_60.h5\n",
      "Total Training Time: 1:00:30.983070\n"
     ]
    }
   ],
   "source": [
    "trainer.run()"
   ]
  },
  {
   "cell_type": "code",
   "execution_count": 7,
   "metadata": {
    "id": "fArqxHakePav",
    "scrolled": true
   },
   "outputs": [
    {
     "name": "stdout",
     "output_type": "stream",
     "text": [
      "WARNING:tensorflow:Skipping full serialization of Keras layer <tensorflow.python.keras.layers.normalization_v2.BatchNormalization object at 0x7fe8505b6320>, because it is not built.\n",
      "WARNING:tensorflow:Skipping full serialization of Keras layer <tensorflow.python.keras.layers.advanced_activations.ReLU object at 0x7fe8505b6668>, because it is not built.\n",
      "INFO:tensorflow:Assets written to: ./saved_model1/assets\n",
      "Model saved.\n"
     ]
    }
   ],
   "source": [
    "trainer.model.save(model_path)\n",
    "print(\"Model saved.\")"
   ]
  },
  {
   "cell_type": "code",
   "execution_count": 8,
   "metadata": {},
   "outputs": [
    {
     "data": {
      "image/png": "[encoded data removed]",
      "text/plain": [
       "<Figure size 576x360 with 1 Axes>"
      ]
     },
     "metadata": {
      "needs_background": "light"
     },
     "output_type": "display_data"
    }
   ],
   "source": [
    "plt.figure(figsize=(8, 5))\n",
    "plt.plot(trainer.train_loss_history, label='Training Loss')\n",
    "plt.plot(trainer.test_loss_history, label='Validation Loss')\n",
    "plt.title('Training and Validation Loss')\n",
    "plt.xlabel('Epochs')\n",
    "plt.ylabel('Loss')\n",
    "plt.legend()\n",
    "plt.show()"
   ]
  },
  {
   "cell_type": "code",
   "execution_count": 9,
   "metadata": {},
   "outputs": [
    {
     "data": {
      "image/png": "[encoded data removed]",
      "text/plain": [
       "<Figure size 576x360 with 1 Axes>"
      ]
     },
     "metadata": {
      "needs_background": "light"
     },
     "output_type": "display_data"
    }
   ],
   "source": [
    "plt.figure(figsize=(8, 5))\n",
    "plt.plot(trainer.train_accuracy_history, label='Training Accuracy')\n",
    "plt.plot(trainer.test_accuracy_history, label='Validation Accuracy')\n",
    "plt.title('Training and Validation Accuracy')\n",
    "plt.xlabel('Epochs')\n",
    "plt.ylabel('Accuracy (%)')\n",
    "plt.legend()\n",
    "plt.show()"
   ]
  }
 ],
 "metadata": {
  "colab": {
   "provenance": []
  },
  "kernelspec": {
   "display_name": "Python 3",
   "language": "python",
   "name": "python3"
  },
  "language_info": {
   "codemirror_mode": {
    "name": "ipython",
    "version": 3
   },
   "file_extension": ".py",
   "mimetype": "text/x-python",
   "name": "python",
   "nbconvert_exporter": "python",
   "pygments_lexer": "ipython3",
   "version": "3.6.9"
  }
 },
 "nbformat": 4,
 "nbformat_minor": 1
}
