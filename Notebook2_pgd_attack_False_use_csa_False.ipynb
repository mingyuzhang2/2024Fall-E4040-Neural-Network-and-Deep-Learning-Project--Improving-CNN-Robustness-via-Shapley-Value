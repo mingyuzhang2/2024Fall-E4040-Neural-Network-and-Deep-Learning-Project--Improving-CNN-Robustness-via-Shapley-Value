{
 "cells": [
  {
   "cell_type": "markdown",
   "metadata": {
    "id": "mm-nwhNRQ8wy"
   },
   "source": [
    "## E4040 2024 Fall Project\n",
    "### Improving CNN Robustness via CS Shapley Value-guided Augmentation"
   ]
  },
  {
   "cell_type": "code",
   "execution_count": 1,
   "metadata": {
    "id": "VW8-sXpHQ69k"
   },
   "outputs": [
    {
     "data": {
      "text/plain": [
       "'/device:GPU:0'"
      ]
     },
     "execution_count": 1,
     "metadata": {},
     "output_type": "execute_result"
    }
   ],
   "source": [
    "%matplotlib inline\n",
    "%load_ext autoreload\n",
    "%autoreload 2\n",
    "\n",
    "import numpy as np\n",
    "import tensorflow as tf\n",
    "import os\n",
    "import matplotlib.pyplot as plt\n",
    "\n",
    "tf.test.gpu_device_name()"
   ]
  },
  {
   "cell_type": "markdown",
   "metadata": {
    "id": "aEhf0dW5Qgdw"
   },
   "source": [
    "### No adv attack, ResNet model"
   ]
  },
  {
   "cell_type": "code",
   "execution_count": 2,
   "metadata": {
    "id": "Hi8OkdYcSEq7"
   },
   "outputs": [],
   "source": [
    "from utils.CSANet_trainer import CSANet_trainer, load_cifar10_dataset\n",
    "from utils.model_ResNet18 import ResNet18"
   ]
  },
  {
   "cell_type": "code",
   "execution_count": 3,
   "metadata": {
    "id": "luF2f1RQeQAu"
   },
   "outputs": [],
   "source": [
    "batch_size = 128\n",
    "lr = 0.1\n",
    "momentum = 0.9\n",
    "decay = 0.0005\n",
    "log_period = 100\n",
    "epochs=10\n",
    "num_classes=10\n",
    "checkpoint_dir=\"./checkpoints2_pgd_attack_False_use_csa_False\"\n",
    "model_path = \"./saved_model2_pgd_attack_False_use_csa_False\"\n",
    "backbone = ResNet18(num_classes=num_classes)\n",
    "conf_per_class = 5000\n",
    "conf_path=\"./saved_values\"\n",
    "epsilon=0.1\n",
    "pgd_iter=10\n",
    "pgd_alpha=0.01\n",
    "pgd_attack=False\n",
    "use_csa=False"
   ]
  },
  {
   "cell_type": "code",
   "execution_count": 4,
   "metadata": {},
   "outputs": [],
   "source": [
    "train_ds, test_ds = load_cifar10_dataset(batch_size)"
   ]
  },
  {
   "cell_type": "code",
   "execution_count": 5,
   "metadata": {
    "id": "ZaCpuzjJeP-n"
   },
   "outputs": [],
   "source": [
    "trainer = CSANet_trainer(\n",
    "    train_ds=train_ds,\n",
    "    test_ds=test_ds,\n",
    "    num_classes=num_classes,\n",
    "    epochs=epochs,\n",
    "    batch_size=batch_size,\n",
    "    lr=lr,\n",
    "    momentum=momentum,\n",
    "    decay=decay,\n",
    "    checkpoint_dir=checkpoint_dir,\n",
    "    backbone=backbone,\n",
    "    conf_per_class = conf_per_class,\n",
    "    conf_path = conf_path,\n",
    "    epsilon=epsilon,\n",
    "    pgd_iter=pgd_iter,\n",
    "    pgd_alpha=pgd_alpha,\n",
    "    pgd_attack=pgd_attack,\n",
    "    use_csa=use_csa\n",
    ")"
   ]
  },
  {
   "cell_type": "code",
   "execution_count": 6,
   "metadata": {
    "id": "Y_2-LAmwePdc",
    "scrolled": true
   },
   "outputs": [
    {
     "name": "stdout",
     "output_type": "stream",
     "text": [
      "No checkpoint found. Starting from scratch.\n",
      "Training Epoch 1\n",
      "Epoch 1, Loss: 2.0723001956939697, Accuracy: 28.488000869750977, Test Loss: 1.6467541456222534, Test Accuracy: 40.310001373291016, Training Time: 0:01:02.617691\n",
      "Checkpoint saved at: ./checkpoints2_pgd_attack_False_use_csa_False/ckpt_epoch_1.h5\n",
      "Training Epoch 2\n",
      "Epoch 2, Loss: 2.0260419845581055, Accuracy: 32.61800003051758, Test Loss: 1.5929771661758423, Test Accuracy: 41.17000198364258, Training Time: 0:00:58.699145\n",
      "Checkpoint saved at: ./checkpoints2_pgd_attack_False_use_csa_False/ckpt_epoch_2.h5\n",
      "Training Epoch 3\n",
      "Epoch 3, Loss: 1.368553876876831, Accuracy: 50.48999786376953, Test Loss: 1.2173596620559692, Test Accuracy: 55.44000244140625, Training Time: 0:00:58.842717\n",
      "Checkpoint saved at: ./checkpoints2_pgd_attack_False_use_csa_False/ckpt_epoch_3.h5\n",
      "Training Epoch 4\n",
      "Epoch 4, Loss: 1.0758837461471558, Accuracy: 61.74399948120117, Test Loss: 1.0223830938339233, Test Accuracy: 64.45000457763672, Training Time: 0:00:58.835422\n",
      "Checkpoint saved at: ./checkpoints2_pgd_attack_False_use_csa_False/ckpt_epoch_4.h5\n",
      "Training Epoch 5\n",
      "Epoch 5, Loss: 0.843288779258728, Accuracy: 70.2040023803711, Test Loss: 0.8255816102027893, Test Accuracy: 71.5, Training Time: 0:00:58.922302\n",
      "Checkpoint saved at: ./checkpoints2_pgd_attack_False_use_csa_False/ckpt_epoch_5.h5\n",
      "Training Epoch 6\n",
      "Epoch 6, Loss: 0.6994349360466003, Accuracy: 75.7040023803711, Test Loss: 0.8396050930023193, Test Accuracy: 72.52999877929688, Training Time: 0:00:58.873934\n",
      "Checkpoint saved at: ./checkpoints2_pgd_attack_False_use_csa_False/ckpt_epoch_6.h5\n",
      "Training Epoch 7\n",
      "Epoch 7, Loss: 0.6058884859085083, Accuracy: 79.26200103759766, Test Loss: 0.6430507898330688, Test Accuracy: 78.30000305175781, Training Time: 0:00:58.811184\n",
      "Checkpoint saved at: ./checkpoints2_pgd_attack_False_use_csa_False/ckpt_epoch_7.h5\n",
      "Training Epoch 8\n",
      "Epoch 8, Loss: 0.5451138615608215, Accuracy: 81.10800170898438, Test Loss: 0.5766236782073975, Test Accuracy: 80.5999984741211, Training Time: 0:00:58.996036\n",
      "Checkpoint saved at: ./checkpoints2_pgd_attack_False_use_csa_False/ckpt_epoch_8.h5\n",
      "Training Epoch 9\n",
      "Epoch 9, Loss: 0.4850456714630127, Accuracy: 83.28400421142578, Test Loss: 0.6451545357704163, Test Accuracy: 79.43000030517578, Training Time: 0:00:58.855021\n",
      "Checkpoint saved at: ./checkpoints2_pgd_attack_False_use_csa_False/ckpt_epoch_9.h5\n",
      "Training Epoch 10\n",
      "Epoch 10, Loss: 0.44538187980651855, Accuracy: 84.69200134277344, Test Loss: 0.5306157469749451, Test Accuracy: 82.2300033569336, Training Time: 0:00:58.908650\n",
      "Checkpoint saved at: ./checkpoints2_pgd_attack_False_use_csa_False/ckpt_epoch_10.h5\n",
      "Total Training Time: 0:09:54.040203\n"
     ]
    }
   ],
   "source": [
    "trainer.run()"
   ]
  },
  {
   "cell_type": "code",
   "execution_count": 7,
   "metadata": {
    "id": "fArqxHakePav",
    "scrolled": true
   },
   "outputs": [
    {
     "name": "stdout",
     "output_type": "stream",
     "text": [
      "WARNING:tensorflow:Skipping full serialization of Keras layer <tensorflow.python.keras.layers.normalization_v2.BatchNormalization object at 0x7ff71cabce48>, because it is not built.\n",
      "WARNING:tensorflow:Skipping full serialization of Keras layer <tensorflow.python.keras.layers.advanced_activations.ReLU object at 0x7ff71cabcba8>, because it is not built.\n",
      "INFO:tensorflow:Assets written to: ./saved_model2_pgd_attack_False_use_csa_False/assets\n",
      "Model saved\n"
     ]
    }
   ],
   "source": [
    "trainer.model.save(model_path)\n",
    "print(\"Model saved\")"
   ]
  }
 ],
 "metadata": {
  "colab": {
   "provenance": []
  },
  "kernelspec": {
   "display_name": "Python 3",
   "language": "python",
   "name": "python3"
  },
  "language_info": {
   "codemirror_mode": {
    "name": "ipython",
    "version": 3
   },
   "file_extension": ".py",
   "mimetype": "text/x-python",
   "name": "python",
   "nbconvert_exporter": "python",
   "pygments_lexer": "ipython3",
   "version": "3.6.9"
  }
 },
 "nbformat": 4,
 "nbformat_minor": 1
}
