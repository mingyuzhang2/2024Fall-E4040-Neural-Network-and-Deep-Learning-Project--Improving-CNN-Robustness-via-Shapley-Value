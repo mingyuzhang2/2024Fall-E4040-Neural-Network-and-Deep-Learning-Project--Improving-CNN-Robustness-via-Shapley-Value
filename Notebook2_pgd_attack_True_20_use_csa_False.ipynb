{
 "cells": [
  {
   "cell_type": "markdown",
   "metadata": {
    "id": "mm-nwhNRQ8wy"
   },
   "source": [
    "## E4040 2024 Fall Project\n",
    "### Improving CNN Robustness via CS Shapley Value-guided Augmentation"
   ]
  },
  {
   "cell_type": "code",
   "execution_count": 1,
   "metadata": {
    "id": "VW8-sXpHQ69k"
   },
   "outputs": [
    {
     "data": {
      "text/plain": [
       "'/device:GPU:0'"
      ]
     },
     "execution_count": 1,
     "metadata": {},
     "output_type": "execute_result"
    }
   ],
   "source": [
    "%matplotlib inline\n",
    "%load_ext autoreload\n",
    "%autoreload 2\n",
    "\n",
    "import numpy as np\n",
    "import tensorflow as tf\n",
    "import os\n",
    "import matplotlib.pyplot as plt\n",
    "\n",
    "tf.test.gpu_device_name()"
   ]
  },
  {
   "cell_type": "markdown",
   "metadata": {
    "id": "aEhf0dW5Qgdw"
   },
   "source": [
    "### Import CIFAR-10 data and training ResNet18"
   ]
  },
  {
   "cell_type": "code",
   "execution_count": 2,
   "metadata": {
    "id": "Hi8OkdYcSEq7"
   },
   "outputs": [],
   "source": [
    "from utils.CSANet_trainer import CSANet_trainer, load_cifar10_dataset\n",
    "from utils.model_ResNet18 import ResNet18"
   ]
  },
  {
   "cell_type": "code",
   "execution_count": 3,
   "metadata": {
    "id": "luF2f1RQeQAu"
   },
   "outputs": [],
   "source": [
    "batch_size = 128\n",
    "lr = 0.1\n",
    "momentum = 0.9\n",
    "decay = 0.0005\n",
    "epochs=10\n",
    "num_classes=10\n",
    "checkpoint_dir=\"./checkpoints\"\n",
    "model_path = \"./saved_model\"\n",
    "backbone = ResNet18(num_classes=num_classes)\n",
    "conf_per_class = 5000\n",
    "conf_path=\"./saved_values\"\n",
    "epsilon=0.1\n",
    "pgd_iter=20\n",
    "pgd_alpha=0.01\n",
    "pgd_attack=True\n",
    "use_csa=False"
   ]
  },
  {
   "cell_type": "code",
   "execution_count": 4,
   "metadata": {},
   "outputs": [],
   "source": [
    "train_ds, test_ds = load_cifar10_dataset(batch_size)"
   ]
  },
  {
   "cell_type": "code",
   "execution_count": 5,
   "metadata": {
    "id": "ZaCpuzjJeP-n"
   },
   "outputs": [],
   "source": [
    "trainer = CSANet_trainer(\n",
    "    train_ds=train_ds,\n",
    "    test_ds=test_ds,\n",
    "    num_classes=num_classes,\n",
    "    epochs=epochs,\n",
    "    batch_size=batch_size,\n",
    "    lr=lr,\n",
    "    momentum=momentum,\n",
    "    decay=decay,\n",
    "    checkpoint_dir=checkpoint_dir,\n",
    "    backbone=backbone,\n",
    "    conf_per_class = conf_per_class,\n",
    "    conf_path = conf_path,\n",
    "    epsilon=epsilon,\n",
    "    pgd_iter=pgd_iter,\n",
    "    pgd_alpha=pgd_alpha,\n",
    "    pgd_attack=pgd_attack,\n",
    "    use_csa=use_csa\n",
    ")"
   ]
  },
  {
   "cell_type": "code",
   "execution_count": 6,
   "metadata": {
    "id": "Y_2-LAmwePdc",
    "scrolled": true
   },
   "outputs": [
    {
     "name": "stdout",
     "output_type": "stream",
     "text": [
      "No checkpoint found. Starting from scratch.\n",
      "Training Epoch 1\n",
      "Epoch 1, Loss: 2.5715279579162598, Accuracy: 14.163999557495117, Test Loss: 1.9234148263931274, Test Accuracy: 30.81999969482422, Training Time: 0:18:54.796952\n",
      "Checkpoint saved at: ./checkpoints/ckpt_epoch_1.h5\n",
      "Training Epoch 2\n",
      "Epoch 2, Loss: 2.197329521179199, Accuracy: 21.34200096130371, Test Loss: 1.66080904006958, Test Accuracy: 38.45000076293945, Training Time: 0:18:50.495114\n",
      "Checkpoint saved at: ./checkpoints/ckpt_epoch_2.h5\n",
      "Training Epoch 3\n",
      "Epoch 3, Loss: 1.899946689605713, Accuracy: 28.707998275756836, Test Loss: 1.5112035274505615, Test Accuracy: 45.290000915527344, Training Time: 0:18:52.180669\n",
      "Checkpoint saved at: ./checkpoints/ckpt_epoch_3.h5\n",
      "Training Epoch 4\n",
      "Epoch 4, Loss: 1.7960124015808105, Accuracy: 32.28200149536133, Test Loss: 1.416342854499817, Test Accuracy: 49.5099983215332, Training Time: 0:18:51.610155\n",
      "Checkpoint saved at: ./checkpoints/ckpt_epoch_4.h5\n",
      "Training Epoch 5\n",
      "Epoch 5, Loss: 1.7174888849258423, Accuracy: 35.64200210571289, Test Loss: 1.3029518127441406, Test Accuracy: 54.61000061035156, Training Time: 0:18:51.196863\n",
      "Checkpoint saved at: ./checkpoints/ckpt_epoch_5.h5\n",
      "Training Epoch 6\n",
      "Epoch 6, Loss: 1.645573377609253, Accuracy: 38.374000549316406, Test Loss: 1.243703842163086, Test Accuracy: 56.599998474121094, Training Time: 0:18:51.558620\n",
      "Checkpoint saved at: ./checkpoints/ckpt_epoch_6.h5\n",
      "Training Epoch 7\n",
      "Epoch 7, Loss: 1.585034728050232, Accuracy: 40.45800018310547, Test Loss: 1.1502810716629028, Test Accuracy: 59.52000045776367, Training Time: 0:18:51.708826\n",
      "Checkpoint saved at: ./checkpoints/ckpt_epoch_7.h5\n",
      "Training Epoch 8\n",
      "Epoch 8, Loss: 1.5261569023132324, Accuracy: 42.63999938964844, Test Loss: 1.0995374917984009, Test Accuracy: 62.88999938964844, Training Time: 0:18:51.518364\n",
      "Checkpoint saved at: ./checkpoints/ckpt_epoch_8.h5\n",
      "Training Epoch 9\n",
      "Epoch 9, Loss: 1.4829106330871582, Accuracy: 44.59000015258789, Test Loss: 1.0351741313934326, Test Accuracy: 65.02000427246094, Training Time: 0:18:52.837630\n",
      "Checkpoint saved at: ./checkpoints/ckpt_epoch_9.h5\n",
      "Training Epoch 10\n",
      "Epoch 10, Loss: 1.4347151517868042, Accuracy: 46.12799835205078, Test Loss: 0.979595422744751, Test Accuracy: 66.79999542236328, Training Time: 0:18:52.379365\n",
      "Checkpoint saved at: ./checkpoints/ckpt_epoch_10.h5\n",
      "Total Training Time: 3:08:41.997628\n"
     ]
    }
   ],
   "source": [
    "trainer.run()"
   ]
  },
  {
   "cell_type": "code",
   "execution_count": 7,
   "metadata": {
    "id": "fArqxHakePav",
    "scrolled": true
   },
   "outputs": [
    {
     "name": "stdout",
     "output_type": "stream",
     "text": [
      "WARNING:tensorflow:Skipping full serialization of Keras layer <tensorflow.python.keras.layers.normalization_v2.BatchNormalization object at 0x7eff90447470>, because it is not built.\n",
      "WARNING:tensorflow:Skipping full serialization of Keras layer <tensorflow.python.keras.layers.advanced_activations.ReLU object at 0x7eff90470080>, because it is not built.\n",
      "INFO:tensorflow:Assets written to: ./saved_model/assets\n",
      "Model saved\n"
     ]
    }
   ],
   "source": [
    "trainer.model.save(model_path)\n",
    "print(\"Model saved\")"
   ]
  }
 ],
 "metadata": {
  "colab": {
   "provenance": []
  },
  "kernelspec": {
   "display_name": "Python 3",
   "language": "python",
   "name": "python3"
  },
  "language_info": {
   "codemirror_mode": {
    "name": "ipython",
    "version": 3
   },
   "file_extension": ".py",
   "mimetype": "text/x-python",
   "name": "python",
   "nbconvert_exporter": "python",
   "pygments_lexer": "ipython3",
   "version": "3.6.9"
  }
 },
 "nbformat": 4,
 "nbformat_minor": 1
}
